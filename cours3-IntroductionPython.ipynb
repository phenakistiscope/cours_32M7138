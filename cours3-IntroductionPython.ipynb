{
 "cells": [
  {
   "cell_type": "markdown",
   "id": "b4066dd1-1eee-4238-93d2-1502fe6e73b1",
   "metadata": {},
   "source": [
    "# **Introduction à Python: n'ayez pas peur!**\n",
    "\n",
    "## Du pixel aux images - 32M7138\n",
    "\n",
    "*Printemps 2024 - Université de Genève*\n",
    "\n",
    "*Adrien Jeanrenaud (adrien.jeanrenaud@unige.ch)*\n"
   ]
  },
  {
   "cell_type": "markdown",
   "id": "93ffd3e5-f085-4ff6-921f-4cd91280717c",
   "metadata": {},
   "source": [
    "<div class=\"alert alert-block alert-info\">\n",
    "<b>Introduction à Python</b> : \n",
    "    <br>Python est un langage de programmation.\n",
    "    <br>Pour pouvoir l'utiliser, il faut comprendre sa syntaxe et sa structure. L'articulation des différents objets correspond à une logique relativement stricte. Le but de ce cours d'introduction est de comprendre cette logique à travers les objets de bases de Python ainsi que la syntaxe nécessaire à leur utilisation. \n",
    "    <br>Pour ce faire, nous allons voir ensemble les sujets suivants:\n",
    "</div>\n",
    "\n",
    "## **Plan du cours**\n",
    "\n",
    "> **Syntaxe : comment écrire en Python?**\n",
    "> * codes couleurs pour s'y retrouver\n",
    "> * l'indentation s'est important!\n",
    "> * décrire son code en mettant des commentaires\n",
    "\n",
    "> **Structure: quelques règles de base en Python**\n",
    "> * d'abord, définir une variables\n",
    "> * travailler avec des chiffres (**int** et **float**)\n",
    "> * travailler avec des lettres, c'est-à-dire une chaîne de caractères (**str**)\n",
    "> * un booléens (**bool**) c'est quoi ?\n",
    "\n",
    "> **Quelques opéraitons de base**\n",
    "> * des opérateurs arithmétiques\n",
    "> * les comparaisons\n",
    "> * encore un peu de logique\n",
    "\n",
    ">  **Des objets utiles pour tous les jours**\n",
    "> * tout mettre dans des **listes**\n",
    "> * les **tuples**: des listes un peu différentes\n",
    "> * structurer ses données avec un **dictionnaire**\n",
    "\n",
    "> **Ajouter des conditions au langage**\n",
    "> * Si : **if**\n",
    "> * Pendant : **while**\n",
    "> * Pour : **for**\n",
    "\n",
    "> **Définir des fonctions**\n",
    "> * définir une fonction, puis l'utiliser \n",
    "> * faire une courte fonction avec **lambda**\n"
   ]
  },
  {
   "cell_type": "code",
   "execution_count": null,
   "id": "6f9477a6-0bf1-49e2-b55d-d0abf658a8a1",
   "metadata": {},
   "outputs": [],
   "source": [
    "#importer les librairies\n",
    "import os\n",
    "import cv2"
   ]
  },
  {
   "cell_type": "code",
   "execution_count": null,
   "id": "69b062d1-8b87-482f-95aa-7a49f12394d6",
   "metadata": {},
   "outputs": [],
   "source": [
    "# Avant toute chose, un exemple concret\n",
    "# Que fais ce programme ?\n",
    "\n",
    "path = \" \"\n",
    "files = os.listdir(path)\n",
    "for img in files:\n",
    "    if img.endswith(\".jpeg\"):\n",
    "        image_path = os.path.join(path, img)\n",
    "        image = cv2.imread(image_path)\n",
    "        if len(image.shape) == 3:\n",
    "            print(f\"{img} {image.shape}\")\n"
   ]
  },
  {
   "cell_type": "markdown",
   "id": "6e960b89-1c6f-43ba-8025-71ca5a1ccd7f",
   "metadata": {},
   "source": [
    "## 1. Syntaxe\n",
    "\n",
    "### Couleurs\n",
    "Des couleurs précises pour les différents objets"
   ]
  },
  {
   "cell_type": "code",
   "execution_count": null,
   "id": "b849ad64-423b-4e5f-9be0-b4fb228b7544",
   "metadata": {},
   "outputs": [],
   "source": [
    "# couleurs dans le code\n",
    "# reprenons le code plus haut\n",
    "\n",
    "path = \"images\" # chaîne de caractères\n",
    "files = os.listdir(path) # fonction\n",
    "for img in files: #opérateur # conditions\n",
    "    if img.endswith(\".jpeg\"): # fonction\n",
    "        image_path = os.path.join(path, img) # deux fonctions\n",
    "        image = cv2.imread(image_path)\n",
    "        if len(image.shape) == 3: # nombre #fonction #opérateur\n",
    "            print(f\"{img} {image.shape}\") # fonction implémentée dans python"
   ]
  },
  {
   "cell_type": "markdown",
   "id": "d3bcac5d-e59a-4f29-8ce2-7bd7c6a18ac3",
   "metadata": {},
   "source": [
    "### Indentation\n",
    "Les différents blocs et leur intérêt"
   ]
  },
  {
   "cell_type": "code",
   "execution_count": null,
   "id": "da34dbff-f3e0-4e92-87a8-c428ce17569c",
   "metadata": {},
   "outputs": [],
   "source": [
    "# identation\n",
    "# reprenons le code plus haut\n",
    "\n",
    "path = \"images\" \n",
    "files = os.listdir(path) # à la ligne pour chaque variable\n",
    "for img in files: # tabulation lorsqu'on rentre dans une boucle\n",
    "    if img.endswith(\".jpeg\"): \n",
    "        image_path = os.path.join(path, img) # tabulation après la fonction\n",
    "        image = cv2.imread(image_path) # à la ligne pour définir une variable\n",
    "        if len(image.shape) == 3: # à la ligne pour ouvrir une nouvelle boucle\n",
    "            print(f\"{img} {image.shape}\")"
   ]
  },
  {
   "cell_type": "markdown",
   "id": "ed63a3c0-88e9-443d-bf5b-afe7701ca4de",
   "metadata": {},
   "source": [
    "### Commentaires\n",
    "Dièse et guillemets pour commenter et référencer votre code"
   ]
  },
  {
   "cell_type": "code",
   "execution_count": null,
   "id": "460bc814-db46-4919-9d71-78f251d97634",
   "metadata": {},
   "outputs": [],
   "source": [
    "# commentaires avec dièse\n",
    "\"\"\"\n",
    "commentaires entre guillemets\n",
    "\"\"\""
   ]
  },
  {
   "cell_type": "markdown",
   "id": "75cea649-6ffe-47b1-9e2b-9e51407b5555",
   "metadata": {},
   "source": [
    "### Jupyter tips\n",
    "\n",
    "Jupyter vous permet de mêler code et texte. Il y a plusieurs manière d'ajouter du texte. En effet, vous pouvez faire: \n",
    "\n",
    "> des sections\n",
    "\n",
    "\\#\n",
    "\n",
    "\\##\n",
    "\n",
    "\\###\n",
    "\n",
    "> des listes\n",
    "\n",
    "\\- \n",
    "\n",
    "\\ 1.\n",
    "\\ 2.\n",
    "\n",
    "> différents types d'écriture\n",
    "\n",
    "**en gras**\n",
    "\n",
    "*en italique*\n",
    "\n",
    "> ajouter des images\n",
    "\n",
    "<img src=\"https://external-content.duckduckgo.com/iu/?u=https%3A%2F%2Ftse4.mm.bing.net%2Fth%3Fid%3DOIP._jgMjuOoVtjHzHc8Rl8J9AAAAA%26pid%3DApi&f=1&ipt=69e439a155c76162f775ed8f417833db5b4e664887915b9467be8dd9fc224a26&ipo=images\" title=\"Logo de l'université de Genève\"/>\n",
    "\n",
    "> Pour aller plus loin, quelques sources spécialisées \n",
    "> * https://www.ibm.com/docs/en/watson-studio-local/1.2.3?topic=notebooks-markdown-jupyter-cheatsheet\n",
    "> * https://www.datacamp.com/tutorial/markdown-in-jupyter-notebook\n",
    "> * https://www.geeksforgeeks.org/markdown-cell-in-jupyter-notebook/\n",
    "\n",
    "*Plus ou moins le même contenu, prenez celui qui vous parle le plus*\n",
    "\n",
    "\n",
    "<div class=\"alert alert-block alert-danger\">\n",
    "<b>Attention</b> : n'oubliez pas de changer la \"nature\" de la cellule ; pour écrire vous devez passer en <b>Markdown</b>.\n",
    "</div>"
   ]
  },
  {
   "cell_type": "code",
   "execution_count": null,
   "id": "6c230049-0a80-4199-9ac0-64d9506b10e5",
   "metadata": {},
   "outputs": [],
   "source": []
  },
  {
   "cell_type": "code",
   "execution_count": null,
   "id": "8a0ca117-15e4-4de2-b963-30d0b0e8beaf",
   "metadata": {},
   "outputs": [],
   "source": []
  },
  {
   "cell_type": "markdown",
   "id": "d2a3c27b-4a65-4b70-bbe4-77145f86ec04",
   "metadata": {},
   "source": [
    "## 2. Types de données\n",
    "\n",
    "### Variables\n",
    "D'abord créer une variable en lui assignant un type"
   ]
  },
  {
   "cell_type": "code",
   "execution_count": null,
   "id": "63c4f909-5d67-486c-a58d-dce44656e738",
   "metadata": {},
   "outputs": [],
   "source": [
    "# variable\n",
    "\n",
    "x = 2\n",
    "print(x)"
   ]
  },
  {
   "cell_type": "code",
   "execution_count": null,
   "id": "8ddc469b-31e7-4b5f-97bd-07992dca02d9",
   "metadata": {},
   "outputs": [],
   "source": [
    "y = x \n",
    "print(y)"
   ]
  },
  {
   "cell_type": "code",
   "execution_count": null,
   "id": "612eef5b-b154-4243-89ec-61011d6ce1de",
   "metadata": {},
   "outputs": [],
   "source": [
    "x == 3\n",
    "print(x)"
   ]
  },
  {
   "cell_type": "code",
   "execution_count": null,
   "id": "7a050ec3-cb72-427e-bb37-04a3d0a9cd3f",
   "metadata": {},
   "outputs": [],
   "source": [
    "# Bonne pratique\n",
    "\n",
    "universite_de_geneve = 1559\n",
    "print(universite_de_geneve)"
   ]
  },
  {
   "cell_type": "markdown",
   "id": "0b59e6e7-8edc-41cd-8390-fcdcb2c2f906",
   "metadata": {},
   "source": [
    "### Nombres (**int** et **float**)\n",
    "En Python, il y a principalement deux types de chiffres: des entiers et des nombres à virgule"
   ]
  },
  {
   "cell_type": "code",
   "execution_count": null,
   "id": "b36c8375-3784-439f-b574-925236d3cda9",
   "metadata": {},
   "outputs": [],
   "source": [
    "# nombre entier\n",
    "\n",
    "x = 4 #cette assignation annule la précédente\n",
    "\n",
    "print(x)"
   ]
  },
  {
   "cell_type": "code",
   "execution_count": null,
   "id": "062d1e5e-6415-42bf-8a7b-eefd90836dfc",
   "metadata": {},
   "outputs": [],
   "source": [
    "# Quel type de donnée\n",
    "\n",
    "print(type(x))"
   ]
  },
  {
   "cell_type": "code",
   "execution_count": null,
   "id": "f71bbfef-e276-4e23-ac59-e6a63fdb1242",
   "metadata": {},
   "outputs": [],
   "source": [
    "# Nombre à virgule\n",
    "\n",
    "z = 2.3\n",
    "print(z, \" --> Type de la variable : \", type(z))"
   ]
  },
  {
   "cell_type": "markdown",
   "id": "7f0bec40-d8d7-4055-b441-7347bc24be68",
   "metadata": {},
   "source": [
    "### Chaîne de caractères (str)\n",
    "Comment est-ce que Python comprend les lettres ?"
   ]
  },
  {
   "cell_type": "code",
   "execution_count": null,
   "id": "25e082f8-f4bf-4177-a1d5-3b09cfb03e8d",
   "metadata": {},
   "outputs": [],
   "source": [
    "# chaîne de caractères\n",
    "\n",
    "a = \"lundi\"\n",
    "print(a)"
   ]
  },
  {
   "cell_type": "code",
   "execution_count": null,
   "id": "9a5df23e-7c13-40c9-9ec3-1515c4a4b28b",
   "metadata": {},
   "outputs": [],
   "source": [
    "b = \"lundi + mardi + mercredi\"\n",
    "print(b)"
   ]
  },
  {
   "cell_type": "code",
   "execution_count": null,
   "id": "f9841683-ebe9-4611-ad70-a56d1dfe8f9d",
   "metadata": {},
   "outputs": [],
   "source": [
    "\n",
    "c = \"jeudi\"\n",
    "print(a,b,c)"
   ]
  },
  {
   "cell_type": "markdown",
   "id": "375a19ab-e0a0-4be8-a2a2-5c1d6d9852cb",
   "metadata": {},
   "source": [
    "### Booléens (bool)\n",
    "Vrai ou faux?"
   ]
  },
  {
   "cell_type": "code",
   "execution_count": null,
   "id": "e8189abc-4460-4069-8675-e0dcdc0b2477",
   "metadata": {},
   "outputs": [],
   "source": [
    "t = True\n",
    "print(t)"
   ]
  },
  {
   "cell_type": "code",
   "execution_count": null,
   "id": "1eba584d-c096-4d12-ada7-e7434ebf4cc7",
   "metadata": {},
   "outputs": [],
   "source": [
    "print(type(t))"
   ]
  },
  {
   "cell_type": "code",
   "execution_count": null,
   "id": "884b1ed1-7821-417f-a238-963efb703de0",
   "metadata": {},
   "outputs": [],
   "source": [
    "f = False\n",
    "print(f, type(f))"
   ]
  },
  {
   "cell_type": "code",
   "execution_count": null,
   "id": "6ad0922c-8e99-4237-99da-db437b185de8",
   "metadata": {},
   "outputs": [],
   "source": []
  },
  {
   "cell_type": "code",
   "execution_count": null,
   "id": "29309f9c-90fb-419c-9afc-b38afe534bdf",
   "metadata": {},
   "outputs": [],
   "source": []
  },
  {
   "cell_type": "markdown",
   "id": "f2fa4993-c6d4-4a97-a9f5-9825a28b1441",
   "metadata": {},
   "source": [
    "## 3. Opérateurs\n",
    "\n",
    "### Arithmétique\n",
    "Quelques opérations de base: addition, soustraction, multiplication, division\n"
   ]
  },
  {
   "cell_type": "code",
   "execution_count": null,
   "id": "ef885314-22d9-4a2f-aced-02b0da3bad7b",
   "metadata": {},
   "outputs": [],
   "source": [
    "# commençons par définir deux variables numériques et deux variables catégorielles\n",
    "\n",
    "x = 2\n",
    "y = 3\n",
    "\n",
    "a = \"lundi\"\n",
    "b = \"mardi\""
   ]
  },
  {
   "cell_type": "code",
   "execution_count": null,
   "id": "bfa443ff-83c0-46d5-8c0f-9a8a04f4b6b6",
   "metadata": {},
   "outputs": [],
   "source": [
    "# addition\n",
    "\n",
    "print(x+y)"
   ]
  },
  {
   "cell_type": "code",
   "execution_count": null,
   "id": "9fa04112-a792-4ff1-ba37-bae408c7cda9",
   "metadata": {},
   "outputs": [],
   "source": [
    "print(a+b)"
   ]
  },
  {
   "cell_type": "code",
   "execution_count": null,
   "id": "92451df5-beb3-402d-bffb-1732805b2236",
   "metadata": {},
   "outputs": [],
   "source": [
    "print(x+a)"
   ]
  },
  {
   "cell_type": "markdown",
   "id": "8c33a208-3816-479a-94ba-5fd8d15d1d12",
   "metadata": {},
   "source": [
    "<div class=\"alert alert-block alert-danger\">\n",
    "<b>Que dit le message d'erreur ?</b>\n",
    "</div>"
   ]
  },
  {
   "cell_type": "code",
   "execution_count": null,
   "id": "65ba6312-6240-4f40-b52a-7d42ace14dba",
   "metadata": {},
   "outputs": [],
   "source": [
    "print(str(x)+a)"
   ]
  },
  {
   "cell_type": "code",
   "execution_count": null,
   "id": "f24b1b6d-4710-43da-96cd-06a972070e04",
   "metadata": {},
   "outputs": [],
   "source": [
    "#soustraction\n",
    "\n",
    "print(x-y)"
   ]
  },
  {
   "cell_type": "code",
   "execution_count": null,
   "id": "76f1bde1-9d9b-4b8d-80c9-7a24658411e1",
   "metadata": {},
   "outputs": [],
   "source": [
    "print(a-b)"
   ]
  },
  {
   "cell_type": "markdown",
   "id": "bebed409-6461-4d5c-b224-6da4f2884d5f",
   "metadata": {},
   "source": [
    "<div class=\"alert alert-block alert-danger\">\n",
    "<b>Que dit le message d'erreur ?</b>\n",
    "</div>"
   ]
  },
  {
   "cell_type": "code",
   "execution_count": null,
   "id": "be9ee96e-4072-41e9-bed6-7bc6b14aa31c",
   "metadata": {},
   "outputs": [],
   "source": [
    "# multiplication\n",
    "\n",
    "print(x*y)"
   ]
  },
  {
   "cell_type": "code",
   "execution_count": null,
   "id": "b9c2907f-fa48-475a-861d-73f53b383974",
   "metadata": {},
   "outputs": [],
   "source": [
    "print(a*b)"
   ]
  },
  {
   "cell_type": "code",
   "execution_count": null,
   "id": "e376d22c-446b-4782-8a0c-340f36a83e7e",
   "metadata": {},
   "outputs": [],
   "source": [
    "# Division\n",
    "\n",
    "print(x/y)"
   ]
  },
  {
   "cell_type": "code",
   "execution_count": null,
   "id": "2b2891cc-1c34-4541-8eb4-84e6a5622b6e",
   "metadata": {},
   "outputs": [],
   "source": [
    "print(x//y)"
   ]
  },
  {
   "cell_type": "markdown",
   "id": "6fe067ca-6280-4acf-8dd4-a83165f0edd4",
   "metadata": {},
   "source": [
    "<div class=\"alert alert-block alert-warning\">\n",
    "    Qu'est-ce que cette divison change par rapport à la première?</div>"
   ]
  },
  {
   "cell_type": "code",
   "execution_count": null,
   "id": "68e0db20-ec3d-4fad-889e-444e17f3a547",
   "metadata": {},
   "outputs": [],
   "source": []
  },
  {
   "cell_type": "code",
   "execution_count": null,
   "id": "a9190714-6c54-4297-95cf-33d8a0183d6b",
   "metadata": {},
   "outputs": [],
   "source": []
  },
  {
   "cell_type": "code",
   "execution_count": null,
   "id": "8668931c-de8c-4dc3-9ceb-bc7f764f1c49",
   "metadata": {},
   "outputs": [],
   "source": [
    "# Arrondir \n",
    "\n",
    "print(round(x/y,2))"
   ]
  },
  {
   "cell_type": "code",
   "execution_count": null,
   "id": "37629dde-68ad-477c-8cf6-baba8caec5f1",
   "metadata": {},
   "outputs": [],
   "source": [
    "print(a/b)"
   ]
  },
  {
   "cell_type": "markdown",
   "id": "68b194b6-0c15-4da2-affe-813a01033e34",
   "metadata": {},
   "source": [
    "<div class=\"alert alert-block alert-danger\">\n",
    "<b>Que dit le message d'erreur ?</b>\n",
    "</div>"
   ]
  },
  {
   "cell_type": "markdown",
   "id": "d5870758-d0d4-4615-ada0-681e9e783a3c",
   "metadata": {},
   "source": [
    "### Comparaison\n",
    "Comparaison n'est pas raison: égal, pas égal, plus grand, plus petit, et égal"
   ]
  },
  {
   "cell_type": "code",
   "execution_count": null,
   "id": "b34da995-89bf-48f2-9bbb-bf613def57a2",
   "metadata": {},
   "outputs": [],
   "source": [
    "# Les différents opérateurs logique\n",
    "# ==, !=, >, <, >=, <=\n",
    "\n",
    "x = 2 \n",
    "y = 3"
   ]
  },
  {
   "cell_type": "code",
   "execution_count": null,
   "id": "8c1669ce-c5c1-4623-9765-9f6563031d4d",
   "metadata": {},
   "outputs": [],
   "source": [
    "#égal\n",
    "\n",
    "x == y"
   ]
  },
  {
   "cell_type": "markdown",
   "id": "3ecc1d46-11d0-47b3-b527-4006ad6a2014",
   "metadata": {},
   "source": [
    "<div class=\"alert alert-block alert-warning\">\n",
    "Qu'avons-nous en retour?</div>"
   ]
  },
  {
   "cell_type": "code",
   "execution_count": null,
   "id": "b4abb919-273c-45eb-a458-971bc09717d8",
   "metadata": {},
   "outputs": [],
   "source": []
  },
  {
   "cell_type": "code",
   "execution_count": null,
   "id": "8b6fdbe4-d3c6-4aee-afd9-5ea30e6ee616",
   "metadata": {},
   "outputs": [],
   "source": []
  },
  {
   "cell_type": "code",
   "execution_count": null,
   "id": "bbba91c0-135f-4e9f-8a53-4bfdf6f01717",
   "metadata": {},
   "outputs": [],
   "source": [
    "# pas égal\n",
    "\n",
    "x != y"
   ]
  },
  {
   "cell_type": "code",
   "execution_count": null,
   "id": "0485e245-6aa1-4cf8-9a96-04290fbbafd4",
   "metadata": {},
   "outputs": [],
   "source": [
    "# plus petit\n",
    "\n",
    "x < y"
   ]
  },
  {
   "cell_type": "code",
   "execution_count": null,
   "id": "6eef6c01-5e77-49f4-8fdf-78fa33b4498b",
   "metadata": {},
   "outputs": [],
   "source": [
    "# plus grand\n",
    "\n",
    "x > y"
   ]
  },
  {
   "cell_type": "code",
   "execution_count": null,
   "id": "2b398b4f-ba0d-4728-a8bc-1c5391fb0d3f",
   "metadata": {},
   "outputs": [],
   "source": [
    "# plus petit et égal\n",
    "\n",
    "x <= y"
   ]
  },
  {
   "cell_type": "code",
   "execution_count": null,
   "id": "d992b07a-b0ca-4195-b726-130b0f0ec75f",
   "metadata": {},
   "outputs": [],
   "source": [
    "# plus grand et égal\n",
    "\n",
    "x >= y"
   ]
  },
  {
   "cell_type": "markdown",
   "id": "9ae7e4c7-2524-4531-b9c3-b87e9d8f7c42",
   "metadata": {},
   "source": [
    "### Logique\n",
    "Un peu de logique pour déliberer nos variables: and, or, not"
   ]
  },
  {
   "cell_type": "code",
   "execution_count": null,
   "id": "09607036-5d1d-4669-b855-f8d5d8128120",
   "metadata": {},
   "outputs": [],
   "source": [
    "# and, or, not\n",
    "\n",
    "x > 1 and y > 2"
   ]
  },
  {
   "cell_type": "markdown",
   "id": "f5e520e0-e582-4ebe-a62b-32bb159de8c0",
   "metadata": {},
   "source": [
    "<div class=\"alert alert-block alert-warning\">\n",
    "Qu'avons-nous en retour?</div>"
   ]
  },
  {
   "cell_type": "code",
   "execution_count": null,
   "id": "3982b924-b2f1-4bc7-9906-31df37419d0b",
   "metadata": {},
   "outputs": [],
   "source": [
    "x == 2 or y == 3"
   ]
  },
  {
   "cell_type": "markdown",
   "id": "bf695c59-2270-410c-9d78-5047e7c72ea3",
   "metadata": {},
   "source": [
    "**Avant de lancer la cellule suivante, décrivez-là**"
   ]
  },
  {
   "cell_type": "code",
   "execution_count": null,
   "id": "31dfbb0b-46ad-4b0e-9984-422e9d9bf64a",
   "metadata": {},
   "outputs": [],
   "source": [
    "not(x == 3 or y == 2)"
   ]
  },
  {
   "cell_type": "markdown",
   "id": "bf79f563-af1a-4098-8959-b7e6354c614c",
   "metadata": {},
   "source": [
    "### Autres opérateurs\n",
    "Et c'est pas fini: is, is not, in, not in"
   ]
  },
  {
   "cell_type": "code",
   "execution_count": null,
   "id": "317d4a62-dc0e-4726-8954-faa35f9015c8",
   "metadata": {},
   "outputs": [],
   "source": [
    "# is, is not, in, not in\n",
    "\n",
    "x is y"
   ]
  },
  {
   "cell_type": "code",
   "execution_count": null,
   "id": "95e16842-b600-4678-b08a-353891f9f81c",
   "metadata": {},
   "outputs": [],
   "source": [
    "x is not y"
   ]
  },
  {
   "cell_type": "code",
   "execution_count": null,
   "id": "dafeed36-2d9d-4d17-af3f-030c50f3800b",
   "metadata": {},
   "outputs": [],
   "source": [
    "print(a,b)"
   ]
  },
  {
   "cell_type": "code",
   "execution_count": null,
   "id": "b30cbf08-c4c8-4efc-84a5-bb30d5e77520",
   "metadata": {},
   "outputs": [],
   "source": [
    "x in y"
   ]
  },
  {
   "cell_type": "code",
   "execution_count": null,
   "id": "edbc40fe-7861-4e0a-969a-3f4d54185fb2",
   "metadata": {},
   "outputs": [],
   "source": [
    "a not in b"
   ]
  },
  {
   "cell_type": "code",
   "execution_count": null,
   "id": "36317fac-7c4b-4457-9773-ce34431169f5",
   "metadata": {},
   "outputs": [],
   "source": [
    "c = \"l\"\n",
    "\n",
    "c in a"
   ]
  },
  {
   "cell_type": "code",
   "execution_count": null,
   "id": "8eb7065e-eeaa-4516-ac04-4e47e3d5a504",
   "metadata": {},
   "outputs": [],
   "source": []
  },
  {
   "cell_type": "code",
   "execution_count": null,
   "id": "ff0b0b5c-add6-46de-84d6-195081cd3946",
   "metadata": {},
   "outputs": [],
   "source": []
  },
  {
   "cell_type": "markdown",
   "id": "d21f51ac-0d2a-489d-a7a2-3bde51160e77",
   "metadata": {},
   "source": [
    "## 4. Objets\n",
    "\n",
    "### Listes\n",
    "Une liste c'est quoi? créer, indexer, longueur et type de données\n"
   ]
  },
  {
   "cell_type": "code",
   "execution_count": null,
   "id": "cfc5011b-6e88-41b3-a5ca-50c5df17da02",
   "metadata": {},
   "outputs": [],
   "source": [
    "# listes\n",
    "\n",
    "l = [1,2,3,4,5]\n",
    "print(l, type(l))"
   ]
  },
  {
   "cell_type": "code",
   "execution_count": null,
   "id": "1c0afe2b-5f8f-4af4-af9c-a0cd541fd251",
   "metadata": {},
   "outputs": [],
   "source": [
    "# longueur de la liste\n",
    "\n",
    "len(l)"
   ]
  },
  {
   "cell_type": "code",
   "execution_count": null,
   "id": "efd86f21-6e4d-4888-aa1c-5abb32700fc5",
   "metadata": {},
   "outputs": [],
   "source": [
    "# indexer\n",
    "\n",
    "l[0]"
   ]
  },
  {
   "cell_type": "code",
   "execution_count": null,
   "id": "b330c397-4026-4886-a722-1bc7796dd171",
   "metadata": {},
   "outputs": [],
   "source": [
    "l[-1] # le dernier "
   ]
  },
  {
   "cell_type": "code",
   "execution_count": null,
   "id": "4c22e816-f52d-4c6e-b7ca-9a756cb5323b",
   "metadata": {},
   "outputs": [],
   "source": [
    "l[2:3] # interval"
   ]
  },
  {
   "cell_type": "code",
   "execution_count": null,
   "id": "e42ed3b6-1d9b-4fee-a1e3-12a2ceb188ef",
   "metadata": {},
   "outputs": [],
   "source": [
    "l[1:-1:2] # avec le pas"
   ]
  },
  {
   "cell_type": "markdown",
   "id": "e5d21425-cccd-4c64-b3f0-1cd327485eab",
   "metadata": {},
   "source": [
    "### Tuples\n",
    "\n",
    "C'est un peu comme une liste, mais avec un ordre"
   ]
  },
  {
   "cell_type": "code",
   "execution_count": null,
   "id": "324f652a-a8ba-455f-8413-732a76f3af77",
   "metadata": {},
   "outputs": [],
   "source": [
    "# tuple\n",
    "# même chose qu'une liste, simplement l'ordre ne change pas\n",
    "\n",
    "t = (1,2,3,4,5)\n",
    "print(t, type(t))"
   ]
  },
  {
   "cell_type": "code",
   "execution_count": null,
   "id": "ec5e4270-0ad0-4d40-b32b-d8e41e82f064",
   "metadata": {},
   "outputs": [],
   "source": [
    "# accessible comme une liste\n",
    "\n",
    "t[3]"
   ]
  },
  {
   "cell_type": "markdown",
   "id": "b7cd45fc-2878-4b84-9e44-161408aada8c",
   "metadata": {},
   "source": [
    "### Dictionnaires\n",
    "\n",
    "Structurer ses données avec un dictionnaire"
   ]
  },
  {
   "cell_type": "code",
   "execution_count": null,
   "id": "5dbbe989-b56e-486d-b77e-219417d6710d",
   "metadata": {},
   "outputs": [],
   "source": [
    "# créer un dictionnaire\n",
    "# des clés - keys\n",
    "# des valeurs - values\n",
    "# entre chaque entrée il faut une virgule\n",
    "# l'identation pour être propre\n",
    "\n",
    "d = {\n",
    "    \"nom\": \"Jeanrenaud\",\n",
    "    \"prénom\": \"Adrien\"\n",
    "}\n",
    "\n",
    "print(d, type(d))"
   ]
  },
  {
   "cell_type": "code",
   "execution_count": null,
   "id": "6f63b9da-7f90-44ac-b090-1532a8d51882",
   "metadata": {},
   "outputs": [],
   "source": [
    "# cela fonctionne aussi sans indentionation\n",
    "\n",
    "d = { \"nom\": \"Jeanrenaud\",\"prénom\": \"Adrien\"}\n",
    "d"
   ]
  },
  {
   "cell_type": "code",
   "execution_count": null,
   "id": "31eb8fcb-0a59-4a4e-8984-ee347b9b3d26",
   "metadata": {},
   "outputs": [],
   "source": [
    "# quels sont les clés\n",
    "\n",
    "d.keys() #clés du dictionnaire"
   ]
  },
  {
   "cell_type": "code",
   "execution_count": null,
   "id": "84a012c0-cf20-4a5f-a020-754c465204d0",
   "metadata": {},
   "outputs": [],
   "source": [
    "# quels sont les valeurs?\n",
    "\n",
    "d.values() "
   ]
  },
  {
   "cell_type": "code",
   "execution_count": null,
   "id": "b246a75a-c8db-48fe-80a3-951a6526cec4",
   "metadata": {},
   "outputs": [],
   "source": [
    "# requêter par clé\n",
    "\n",
    "d[\"nom\"]"
   ]
  },
  {
   "cell_type": "code",
   "execution_count": null,
   "id": "35b17e13-3e1a-4da4-8175-7cc68c23ccfc",
   "metadata": {},
   "outputs": [],
   "source": [
    "# un dicitonnaire peut contenir \n",
    "\n",
    "d2 = {\n",
    "    \"nom\": \"Jeanrenaud\",\n",
    "    \"prénom\": [\"Adrien\", \"Théo\"]\n",
    "}\n",
    "print(d2, type(d2))"
   ]
  },
  {
   "cell_type": "code",
   "execution_count": null,
   "id": "64292f96-00f6-4fa1-a946-f13261d6342f",
   "metadata": {},
   "outputs": [],
   "source": [
    "# Requêter par clé\n",
    "\n",
    "d2[\"prénom\"]"
   ]
  },
  {
   "cell_type": "code",
   "execution_count": null,
   "id": "13fcdd1b-2b17-4ffe-a909-59e58c768558",
   "metadata": {},
   "outputs": [],
   "source": [
    "# La longeur des valeurs\n",
    "\n",
    "len(d2[\"prénom\"]) # je peux y accéder comme une liste"
   ]
  },
  {
   "cell_type": "code",
   "execution_count": null,
   "id": "12b4afdd-d958-4138-9fbe-3a06e13f22be",
   "metadata": {},
   "outputs": [],
   "source": [
    "# il s'agit d'un dictionnaire dans un dictionnaire (nested dictionary)\n",
    "# faites des tests pour requêter dedanse\n",
    "\n",
    "eleves = {\n",
    "    \"eleve1\": {\n",
    "        \"nom\": \"Jeanrenaud\",\n",
    "        \"prénom\": [\"Adrien\", \"Théo\"]\n",
    "    },\n",
    "    \"eleve2\": {\n",
    "        \"nom\": \"Martin\",\n",
    "        \"prénom\": [\"Jeanne\", \"Michelle\"]\n",
    "    },\n",
    "    \"eleve3\": {\n",
    "        \"nom\": \"Balestra\",\n",
    "        \"prénom\": \"Rebecca\"\n",
    "    }\n",
    "    \n",
    "}\n",
    "\n",
    "print(eleves)"
   ]
  },
  {
   "cell_type": "code",
   "execution_count": null,
   "id": "e0da40c9-7f7b-436f-bd50-5dbb23a2c7b9",
   "metadata": {},
   "outputs": [],
   "source": [
    "import json\n",
    "\n",
    "\n",
    "print (json.dumps(eleves, indent=2))"
   ]
  },
  {
   "cell_type": "code",
   "execution_count": null,
   "id": "6f56aaec-ddde-4422-8ce6-300b4b2fe5de",
   "metadata": {},
   "outputs": [],
   "source": [
    "# Pour éviter les problèmes d'encodage\n",
    "\n",
    "print (json.dumps(eleves, indent=2, ensure_ascii=False))"
   ]
  },
  {
   "cell_type": "code",
   "execution_count": null,
   "id": "8f7ead51-745d-411d-81e4-6195e99c996d",
   "metadata": {},
   "outputs": [],
   "source": [
    "# voilà à quoi ressemble un nested dictionary dans un tableau\n",
    "import pandas as pd\n",
    "\n",
    "print(pd.DataFrame(eleves).T)"
   ]
  },
  {
   "cell_type": "code",
   "execution_count": null,
   "id": "6a7911d7-aa57-4ff8-a14d-a9effcd41c9f",
   "metadata": {},
   "outputs": [],
   "source": []
  },
  {
   "cell_type": "markdown",
   "id": "954d34c0-b1b7-43bd-b9f7-c109b6bc559c",
   "metadata": {},
   "source": [
    "## 5. Conditions\n",
    "\n",
    "Les conditions permettent d'automatiser des tâches sous certaines conditions\n",
    "\n",
    "### For\n",
    "La boucle \"pour\""
   ]
  },
  {
   "cell_type": "code",
   "execution_count": null,
   "id": "755248ec-4e21-422b-8aff-55ebdd79aace",
   "metadata": {},
   "outputs": [],
   "source": [
    "#Boucle for\n",
    "# Pour x dans y...\n",
    "\n",
    "for i in range(0,10):\n",
    "    print(i)"
   ]
  },
  {
   "cell_type": "code",
   "execution_count": null,
   "id": "060e1711-3a7f-4d4d-95a3-9588db6e286f",
   "metadata": {},
   "outputs": [],
   "source": [
    "pages = []\n",
    "for i in range(1,101):\n",
    "    pages.append(i) # pour sauvegarder les informations\n",
    "\n",
    "print(len(pages), pages[0], pages[-1])"
   ]
  },
  {
   "cell_type": "code",
   "execution_count": null,
   "id": "96d74e1f-83da-41d4-b2f3-7c91b1504d18",
   "metadata": {},
   "outputs": [],
   "source": [
    "#Boucle dans une boucle\n",
    "\n",
    "jours = [\"lundi\", \"mardi\", \"mercredi\", \"jeudi\", \"vendredi\", \"samedi\", \"dimanche\"]\n",
    "for jour in jours:\n",
    "    for lettre in jour:\n",
    "        print(lettre)"
   ]
  },
  {
   "cell_type": "markdown",
   "id": "eb5bdce6-5a94-422e-abbe-21354250dbe7",
   "metadata": {},
   "source": [
    "### While\n",
    "La condition \"pendant que\""
   ]
  },
  {
   "cell_type": "code",
   "execution_count": null,
   "id": "076c146e-1510-4423-ba0b-a84d527fe670",
   "metadata": {},
   "outputs": [],
   "source": [
    "# Boucle while\n",
    "# Pendant que ma condition est valide la boucle tourne\n",
    "\n",
    "a = 20\n",
    "while a < 100:\n",
    "    print(f\"{a} is True\")\n",
    "    a += 10\n",
    "print(\"Done\")"
   ]
  },
  {
   "cell_type": "code",
   "execution_count": null,
   "id": "f38fba21-c5d9-439b-a2a3-2fac0bf9608b",
   "metadata": {},
   "outputs": [],
   "source": [
    "# Avec break\n",
    "\n",
    "a = 1\n",
    "while a < 6:\n",
    "    print(a)\n",
    "    if a == 3: #condition\n",
    "        break\n",
    "    a += 1"
   ]
  },
  {
   "cell_type": "markdown",
   "id": "0f2d6a61-6166-41b8-8c10-37330eca8d22",
   "metadata": {},
   "source": [
    "### If\n",
    "La condition \"si\": opérateurs, identations, elif, else, court, nested"
   ]
  },
  {
   "cell_type": "code",
   "execution_count": null,
   "id": "5f94a264-56b7-41f6-86d1-604985eef7a8",
   "metadata": {},
   "outputs": [],
   "source": [
    "# Condition avec les opérateurs logiques\n",
    "\n",
    "a = 10\n",
    "b = 20\n",
    "\n",
    "if a <= b: # >, <, >=, <=, !=\n",
    "    print('True')"
   ]
  },
  {
   "cell_type": "code",
   "execution_count": null,
   "id": "e8f10d19-123b-4bac-94ba-1fddae8f3d6b",
   "metadata": {},
   "outputs": [],
   "source": [
    "# Else, permet de prendre tout ce qui n'est pas dans les conditions\n",
    "\n",
    "a = 10\n",
    "b = 20\n",
    "\n",
    "if a == b: # >, <, >=, <=, !=\n",
    "    print('True')\n",
    "elif a > b:\n",
    "    print(\"True cette fois\")\n",
    "else:\n",
    "    print('False')"
   ]
  },
  {
   "cell_type": "code",
   "execution_count": null,
   "id": "011287a7-d2b6-43f3-8931-4fb23b561bde",
   "metadata": {},
   "outputs": [],
   "source": [
    "# Il est possible de faire des conditions et des boucles sur une ligne également\n",
    "\n",
    "a = 10\n",
    "b = 20\n",
    "\n",
    "print('True') if a == b else print('False')"
   ]
  },
  {
   "cell_type": "code",
   "execution_count": null,
   "id": "3f62f938-75eb-4e2f-b9cd-fe11c4829bea",
   "metadata": {},
   "outputs": [],
   "source": [
    "# And\n",
    "\n",
    "a = 10\n",
    "b = 20\n",
    "\n",
    "if a != b and a < b: \n",
    "    print('True')\n",
    "else:\n",
    "    print('False')"
   ]
  },
  {
   "cell_type": "code",
   "execution_count": null,
   "id": "2e95c186-3ec7-44b9-8d75-96faf398ecc8",
   "metadata": {},
   "outputs": [],
   "source": [
    "# Break, permet de sortir de la boucle\n",
    "\n",
    "a = 5\n",
    "\n",
    "for i in range(0,20):\n",
    "    if i == a:\n",
    "        break\n",
    "    print(i)"
   ]
  },
  {
   "cell_type": "code",
   "execution_count": null,
   "id": "d2a1f7e4-4683-410c-a167-8eb97a86dd0b",
   "metadata": {},
   "outputs": [],
   "source": [
    "# Continue, permet de continuer la boucle\n",
    "\n",
    "a = 5\n",
    "ap = []\n",
    "for i in range(0,20):\n",
    "    if i == a:\n",
    "        ap.append(i)\n",
    "        continue\n",
    "    print(i)\n",
    "print(ap)"
   ]
  },
  {
   "cell_type": "code",
   "execution_count": null,
   "id": "73ad5b05-a0c4-425b-bb58-d3db80ace999",
   "metadata": {},
   "outputs": [],
   "source": []
  },
  {
   "cell_type": "code",
   "execution_count": null,
   "id": "98d0f3d0-58a5-4138-bf19-bbeb73ab351f",
   "metadata": {},
   "outputs": [],
   "source": []
  },
  {
   "cell_type": "markdown",
   "id": "6ffe8457-c524-4512-b4ce-01e1683de99c",
   "metadata": {},
   "source": [
    "## 6. Fonctions\n",
    "\n",
    "### Def\n",
    "Définir une fonction et l'utiliser\n"
   ]
  },
  {
   "cell_type": "code",
   "execution_count": null,
   "id": "fd969719-3e42-4e32-a583-6eb66adbd868",
   "metadata": {},
   "outputs": [],
   "source": [
    "# définir une fonction\n",
    "\n",
    "def carre(a):\n",
    "    return a**2"
   ]
  },
  {
   "cell_type": "code",
   "execution_count": null,
   "id": "e38e0135-0bdb-4a03-a809-6be107db17c6",
   "metadata": {},
   "outputs": [],
   "source": [
    "carre(a=3)"
   ]
  },
  {
   "cell_type": "code",
   "execution_count": null,
   "id": "9a6d7a3e-6d3e-4f9c-b245-3391dd151581",
   "metadata": {},
   "outputs": [],
   "source": [
    "# Définir\n",
    "\n",
    "def equal(a, b):\n",
    "    if a == b:\n",
    "        print('True')\n",
    "    elif a != b:\n",
    "        print(\"False\")"
   ]
  },
  {
   "cell_type": "code",
   "execution_count": null,
   "id": "513c0d6e-464e-4d34-beb0-a619c1bcd286",
   "metadata": {},
   "outputs": [],
   "source": [
    "equal(a=10, b=10)"
   ]
  },
  {
   "cell_type": "markdown",
   "id": "55ce0de8-a977-4d34-a036-7c792330b990",
   "metadata": {},
   "source": [
    "### Lambda\n",
    "Une fonction courte, en une ligne"
   ]
  },
  {
   "cell_type": "code",
   "execution_count": null,
   "id": "4e06336d-b50a-4855-994a-614d007aa183",
   "metadata": {},
   "outputs": [],
   "source": [
    "# Lambda \n",
    "\n",
    "x = lambda a: a**2\n",
    "y = lambda a, b: a*b"
   ]
  },
  {
   "cell_type": "code",
   "execution_count": null,
   "id": "071e9385-259d-4394-b985-d6e925756fb4",
   "metadata": {},
   "outputs": [],
   "source": [
    "print(x(4))\n",
    "print(y(4,5))"
   ]
  },
  {
   "cell_type": "code",
   "execution_count": null,
   "id": "9bf44830-0961-457a-a15a-1d4f3aec4b80",
   "metadata": {},
   "outputs": [],
   "source": []
  },
  {
   "cell_type": "code",
   "execution_count": null,
   "id": "d8111f74-58e0-4ec6-a123-9cfef6a3dacc",
   "metadata": {},
   "outputs": [],
   "source": []
  },
  {
   "cell_type": "markdown",
   "id": "e3639beb-d745-494d-948c-54da0a05cf8a",
   "metadata": {},
   "source": [
    "## Exercices\n",
    "\n",
    "Pour la semaine prochaine, jusqu'à \"Python Lambda\": https://www.w3schools.com/python/default.asp"
   ]
  },
  {
   "cell_type": "code",
   "execution_count": null,
   "id": "f7570d81-9e3b-46cf-b322-2185ecb5c2e0",
   "metadata": {},
   "outputs": [],
   "source": []
  }
 ],
 "metadata": {
  "kernelspec": {
   "display_name": "image",
   "language": "python",
   "name": "image"
  },
  "language_info": {
   "codemirror_mode": {
    "name": "ipython",
    "version": 3
   },
   "file_extension": ".py",
   "mimetype": "text/x-python",
   "name": "python",
   "nbconvert_exporter": "python",
   "pygments_lexer": "ipython3",
   "version": "3.8.13"
  }
 },
 "nbformat": 4,
 "nbformat_minor": 5
}

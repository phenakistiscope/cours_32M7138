{
 "cells": [
  {
   "cell_type": "markdown",
   "id": "8348316a-4aa6-4915-a5c6-d7e39faa7b46",
   "metadata": {},
   "source": [
    "# Manipuler une image grâce au code: partie 1\n",
    "\n",
    "## Du pixel aux images - 32M7138\n",
    "\n",
    "*Printemps 2024 - Université de Genève*\n",
    "\n",
    "*Adrien Jeanrenaud (adrien.jeanrenaud@unige.ch)*"
   ]
  },
  {
   "cell_type": "markdown",
   "id": "3f7a6c31-eb07-4fa4-932a-6cd7f504a403",
   "metadata": {},
   "source": [
    "<div class=\"alert alert-block alert-info\">\n",
    "<b>Manipulations partie 1</b> : jusque là nous avons vu les bases d'une images numérique - matrices et couleurs. \n",
    "    <br>À partir de maintenant, il s'agira de manipuler une image. Les manipulation permettent d'extraire de l'information, de \"normaliser\" l'image, voire de la modifier. \n",
    "    <br>Dans un premier temps, nous allons voir:\n",
    "</div>\n",
    "\n",
    "## **Plan du cours**\n",
    "\n",
    "> **Indexation: les bases**\n",
    "> * L'image à 1D: rappel des listes\n",
    "> * L'image en valeurs de gris: 2D\n",
    "> * 3D: les images couleurs\n",
    "\n",
    "> **Créer une image: un bon exercice d'indexation**\n",
    "> * Définir un canveas\n",
    "> * Peindre des formes\n",
    "> * Détourer sur une image\n",
    "\n",
    "> **Manipuler avec l'indexation**\n",
    "> * Recadrer\n",
    "> * Modifier les dimensions\n",
    "> * Modifier les couleurs\n",
    "> * Tout ça pour?"
   ]
  },
  {
   "cell_type": "code",
   "execution_count": null,
   "id": "0cdbdc77-d16d-48be-aba0-ad5316851afd",
   "metadata": {},
   "outputs": [],
   "source": [
    "# importer les librairies nécessaires\n",
    "\n",
    "import numpy as np\n",
    "import os\n",
    "import cv2\n",
    "import matplotlib.pyplot as plt"
   ]
  },
  {
   "cell_type": "markdown",
   "id": "1281dd11-2cce-4381-853e-738354e0764f",
   "metadata": {},
   "source": [
    "## **1. Indexation: les bases**\n",
    "\n",
    "Jusqu'ici nous avons déjà utilisé l'indexation. Ce type de manipulation permets de nous déplacer sur une image, de cibler une dimensions et d'autres choses que nous verrons pas la suite.\n",
    "\n",
    "### L'image à 1D: rappel des listes\n",
    "\n",
    "Une image à 1D s'apparente à une liste. On a déjà vu les listes, alors faisons un petit rappel"
   ]
  },
  {
   "cell_type": "code",
   "execution_count": null,
   "id": "01fd96e1-3b0d-42ab-bbea-027800e6f806",
   "metadata": {},
   "outputs": [],
   "source": [
    "# Une matrice à 1D\n",
    "# La fonction np.array() permet de créer un tableau (array)\n",
    "\n",
    "a = np.array([0,1,2,3,4,5,6,7,8,9])\n",
    "print(a)"
   ]
  },
  {
   "cell_type": "code",
   "execution_count": null,
   "id": "aef40f99-9d76-42d9-8c17-7615d17cf0ff",
   "metadata": {},
   "outputs": [],
   "source": [
    "# On peut vérifier les dimensions de notre matrice grâce à la fonction \"shape\"\n",
    "\n",
    "print(a.shape)"
   ]
  },
  {
   "cell_type": "code",
   "execution_count": null,
   "id": "e3b24630-81ec-4999-87f2-e91cd5c2b7b8",
   "metadata": {},
   "outputs": [],
   "source": [
    "# Pour accéder à une valeur on utilise les [] pour déterminer une position (et non la valeur en elle-même!)\n",
    "\n",
    "a[1]"
   ]
  },
  {
   "cell_type": "code",
   "execution_count": null,
   "id": "f1dda500-2b85-4c32-82b9-53a29efda0c6",
   "metadata": {},
   "outputs": [],
   "source": [
    "# Mais en Python, la première position commence à 0\n",
    "\n",
    "a[0]"
   ]
  },
  {
   "cell_type": "code",
   "execution_count": null,
   "id": "fb0a4b78-54d3-4bbd-b9ec-0e631c98071b",
   "metadata": {},
   "outputs": [],
   "source": [
    "# On peut aussi prendre plusieurs valeurs\n",
    "# a[début:fin[ (non compris)\n",
    "\n",
    "a[0:4]"
   ]
  },
  {
   "cell_type": "code",
   "execution_count": null,
   "id": "6626bae0-0e73-4ea9-83d0-b3c3e7ea34fb",
   "metadata": {},
   "outputs": [],
   "source": [
    "# On peut donner un ensemble après une certaine position\n",
    "# a[début: jusqu'à la fin] (compris)\n",
    "\n",
    "a[4:]"
   ]
  },
  {
   "cell_type": "code",
   "execution_count": null,
   "id": "d5e11752-e09a-4944-baec-c7256ee5ede2",
   "metadata": {},
   "outputs": [],
   "source": [
    "# On peut donner un ensemble jusqu'à une certaine position\n",
    "# a[depuis le début: fin[ (non compris)\n",
    "\n",
    "a[:4]"
   ]
  },
  {
   "cell_type": "code",
   "execution_count": null,
   "id": "30b7d4c9-9e24-460f-9dfc-29ad879b662b",
   "metadata": {},
   "outputs": [],
   "source": [
    "# On peut partir depuis la dernière position\n",
    "# a[début: moins les X dernières valeurs] \n",
    "\n",
    "a[:-1]"
   ]
  },
  {
   "cell_type": "code",
   "execution_count": null,
   "id": "17c9247d-2ff2-47ad-a36d-41f10b69638f",
   "metadata": {},
   "outputs": [],
   "source": [
    "# On peut donner un ensemble par la négative\n",
    "# a[les X dernières valeurs:] \n",
    "\n",
    "a[-3:]"
   ]
  },
  {
   "cell_type": "code",
   "execution_count": null,
   "id": "dee0c598-fe63-4def-8bd2-957530b40607",
   "metadata": {},
   "outputs": [],
   "source": [
    "# On peut même demander des ensembles plus spécifiques, par exemple prendre une valeur sur deux\n",
    "# a[début inclu: fin inclu: pas entre les valeurs] \n",
    "\n",
    "a[ : :2]"
   ]
  },
  {
   "cell_type": "markdown",
   "id": "d6bf9169-6183-4637-b2bc-eb5e1fef459a",
   "metadata": {},
   "source": [
    "### L'image en valeurs de gris: 2D\n",
    "\n",
    "Sur une image à deux dimensions, l'indexation permet d'acceder aux valeurs du tableau en se déplaçant sur la hauteur et la largeur, entre lignes et colonnes."
   ]
  },
  {
   "cell_type": "code",
   "execution_count": null,
   "id": "8431f2da-b1c5-4951-a0d4-190886039b1e",
   "metadata": {},
   "outputs": [],
   "source": [
    "# Créer une image 2D\n",
    "\n",
    "b = np.array([[0,1,2],[3,4,5],[6,7,8],[9,10,11]])\n",
    "print(b)"
   ]
  },
  {
   "cell_type": "code",
   "execution_count": null,
   "id": "82fe5f89-99f3-412f-8ba5-b49feb91eff4",
   "metadata": {},
   "outputs": [],
   "source": [
    "# Est-ce bien une matrice 2D?\n",
    "\n",
    "print(b.shape)"
   ]
  },
  {
   "cell_type": "code",
   "execution_count": null,
   "id": "813e3de6-5a20-4b14-af41-a90e730d08c8",
   "metadata": {},
   "outputs": [],
   "source": [
    "# Si l'on part de la logique à 1D\n",
    "# un [] permet d'accéder à la ligne\n",
    "\n",
    "b[0]"
   ]
  },
  {
   "cell_type": "code",
   "execution_count": null,
   "id": "a23299c9-2767-4b72-8ab6-5a1e09a318d1",
   "metadata": {},
   "outputs": [],
   "source": [
    "# Accéder à plusieurs lignes\n",
    "\n",
    "b[0:2]"
   ]
  },
  {
   "cell_type": "code",
   "execution_count": null,
   "id": "dae9d280-0b9c-4803-b652-d63658782daf",
   "metadata": {},
   "outputs": [],
   "source": [
    "# L'utilisation de la virgule permet de passer à une autre dimension\n",
    "# Accéder à la colonne\n",
    "\n",
    "b[:,0]"
   ]
  },
  {
   "cell_type": "code",
   "execution_count": null,
   "id": "527ac768-c578-4a6e-bbfe-3476f597a00a",
   "metadata": {},
   "outputs": [],
   "source": [
    "# Accéder à plusieurs colonnes\n",
    "\n",
    "b[:,0:2]"
   ]
  },
  {
   "cell_type": "code",
   "execution_count": null,
   "id": "face7488-0e1f-4d75-a1bb-83ff3e56d787",
   "metadata": {},
   "outputs": [],
   "source": [
    "# Accéder à plusieurs valeurs sur la ligne\n",
    "# b[ligne, début colonne:fin] \n",
    "\n",
    "b[0,1:3]"
   ]
  },
  {
   "cell_type": "code",
   "execution_count": null,
   "id": "fbb14fe9-6121-435e-bcec-21d7fcf04af6",
   "metadata": {},
   "outputs": [],
   "source": [
    "# Accéder à plusieurs valeurs sur plusieurs lignes\n",
    "# b[ligne départ:ligne arrivée non-incluse, début colonne: fin non incluse] \n",
    "\n",
    "b[0:2,1:3]"
   ]
  },
  {
   "cell_type": "code",
   "execution_count": null,
   "id": "3bf6ad1f-5e77-40a4-acbd-f85e507b2482",
   "metadata": {},
   "outputs": [],
   "source": [
    "# On peut également utiliser le pas \n",
    "# ici on séléctionne une ligne sur deux et une colonne sur deux \n",
    "\n",
    "b[: :2,: :2]"
   ]
  },
  {
   "cell_type": "markdown",
   "id": "0cbc9907-36a5-41ea-b8f0-72929a2a8973",
   "metadata": {},
   "source": [
    "### 3D: les images couleurs\n",
    "\n",
    "L'intérêt de l'indexation d'une image à 3D est l'accès aux valeurs qui, dans le troisième dimension, forment la couleur."
   ]
  },
  {
   "cell_type": "code",
   "execution_count": null,
   "id": "c9492c56-8d7c-48a2-aa9f-7eb03d439270",
   "metadata": {},
   "outputs": [],
   "source": [
    "c = np.array([[[255,0,0],\n",
    "               [0,255,0],\n",
    "               [0,0,255]],\n",
    "              [[255,0,255],\n",
    "               [0,255,255],\n",
    "               [255,255,0]]])\n",
    "print(c)\n",
    "\n",
    "plt.imshow(c)\n",
    "plt.show()"
   ]
  },
  {
   "cell_type": "code",
   "execution_count": null,
   "id": "1f662938-d243-470a-945b-0be3c07e8a9d",
   "metadata": {},
   "outputs": [],
   "source": [
    "# Quelles dimensions?\n",
    "\n",
    "print(c.shape)"
   ]
  },
  {
   "cell_type": "code",
   "execution_count": null,
   "id": "828dddaa-5e65-4547-a81a-6a5e8f80137d",
   "metadata": {},
   "outputs": [],
   "source": [
    "# Si l'on part de la logique à 1D\n",
    "# un [] permet d'accéder à la ligne\n",
    "\n",
    "c[0]"
   ]
  },
  {
   "cell_type": "code",
   "execution_count": null,
   "id": "3753adff-260c-4570-ae8d-96b0458dea27",
   "metadata": {},
   "outputs": [],
   "source": [
    "# De la ligne en image couleur à l'image en valeurs de gris\n",
    "\n",
    "plt.imshow(c[0], cmap=\"gray\")\n",
    "plt.show()"
   ]
  },
  {
   "cell_type": "code",
   "execution_count": null,
   "id": "839fefd5-fa04-4f48-b139-3805aabbc157",
   "metadata": {},
   "outputs": [],
   "source": [
    "# Sur cette ligne on peut accéder aux deux premières valeurs par exemple\n",
    "\n",
    "c[0,:2]"
   ]
  },
  {
   "cell_type": "code",
   "execution_count": null,
   "id": "97f8ba8b-f487-4bd1-a332-0bb115a25406",
   "metadata": {},
   "outputs": [],
   "source": [
    "# Et sur cette ligne à deux valeurs on peut accéder à la première dimension (au rouge par exemple)\n",
    "\n",
    "c[0,:3, 0]"
   ]
  },
  {
   "cell_type": "code",
   "execution_count": null,
   "id": "2987894d-6aa5-4596-a9b9-c003ec9acf8c",
   "metadata": {},
   "outputs": [],
   "source": [
    "# On prend la première colonne\n",
    "\n",
    "c[:,:1,:]"
   ]
  },
  {
   "cell_type": "code",
   "execution_count": null,
   "id": "e61491bc-8a4d-453f-a284-5b483b5178a3",
   "metadata": {},
   "outputs": [],
   "source": [
    "# On peut aussi simplement prendre la \"couche\" qui contient la couleur vert\n",
    "\n",
    "c[:,:, 1]"
   ]
  },
  {
   "cell_type": "code",
   "execution_count": null,
   "id": "1cbe9b63-037d-44f2-9aa9-cbf2eab171f4",
   "metadata": {},
   "outputs": [],
   "source": [
    "plt.imshow(c[:,:, 1], cmap=\"gray\")\n",
    "plt.show()"
   ]
  },
  {
   "cell_type": "code",
   "execution_count": null,
   "id": "b97259f1-894a-4187-b905-60e91e546111",
   "metadata": {},
   "outputs": [],
   "source": []
  },
  {
   "cell_type": "code",
   "execution_count": null,
   "id": "1f7da2d0-4870-4f54-82d0-4d6f9ffd3b07",
   "metadata": {},
   "outputs": [],
   "source": []
  },
  {
   "cell_type": "markdown",
   "id": "7c68937e-d495-4f3f-a3b9-e86d12abeada",
   "metadata": {},
   "source": [
    "## **2. Créer une image**\n",
    "\n",
    "Avec Python il est possible de créer des une image ainsi qu'y insérer des formes. C'est un bon exercice d'indexation.\n",
    "\n",
    "### Définir un canevas\n",
    "\n",
    "D'abord il faut créer une toile, un canevas vide"
   ]
  },
  {
   "cell_type": "code",
   "execution_count": null,
   "id": "8c11cde6-54ff-4bea-8f00-aef183fe3947",
   "metadata": {},
   "outputs": [],
   "source": [
    "# on crée une matrice remplie de 0, de 800 par 1000, avec trois canaux\n",
    "\n",
    "canevas = np.zeros((800, 1000, 3), dtype=\"uint8\")\n",
    "plt.imshow(canevas, cmap=\"gray\")\n",
    "plt.show()"
   ]
  },
  {
   "cell_type": "code",
   "execution_count": null,
   "id": "ce9eeba6-0de9-4f8d-aa69-e67e392eb999",
   "metadata": {},
   "outputs": [],
   "source": [
    "# On peut aussi créer une toile blanche\n",
    "# il suffit de mettre toutes les valeurs à 255\n",
    "\n",
    "canevas_blanc = np.zeros((800, 1000, 3), dtype=\"uint8\")\n",
    "canevas_blanc.fill(255)\n",
    "plt.imshow(canevas_blanc, cmap=\"gray\")\n",
    "plt.show()"
   ]
  },
  {
   "cell_type": "markdown",
   "id": "177ff755-38d5-4376-a010-7bcf9f085b1c",
   "metadata": {},
   "source": [
    "### Peindre des formes\n",
    "\n",
    "À partir d'une toile vide on peut peindre des formes de base: ligne, rectangle, cercle"
   ]
  },
  {
   "cell_type": "code",
   "execution_count": null,
   "id": "b162186f-900d-4bdc-b5c3-8c33fa3ec1eb",
   "metadata": {},
   "outputs": [],
   "source": [
    "# Tracer une ligne, pas à pas\n",
    "\n",
    "start = (0,500) #début de la ligne\n",
    "end = (1000, 500)#fin de la ligne\n",
    "couleur = (255, 0, 0) #couleur de la ligne en RGB\n",
    "largeur = 100  #largeur de la ligne en pixels\n",
    "\n",
    "canevas = cv2.line(canevas, start, end, couleur, largeur)\n",
    "plt.imshow(canevas)\n",
    "plt.show()"
   ]
  },
  {
   "cell_type": "code",
   "execution_count": null,
   "id": "2f245eea-7c37-45c0-8c62-79a5f38b2ff7",
   "metadata": {},
   "outputs": [],
   "source": [
    "# Tracer un rectangle, pas à pas\n",
    "\n",
    "start2 = (700,600) #début en haut à gauche\n",
    "end2 = (800, 900)#fin en bas à droite\n",
    "couleur2 = (255, 255, 0) #couleur de la ligne en RGB\n",
    "largeur2 = -1  #taille du trait\n",
    "\n",
    "canevas = cv2.rectangle(canevas, start2, end2, couleur2, largeur2)\n",
    "plt.imshow(canevas)\n",
    "plt.show()"
   ]
  },
  {
   "cell_type": "code",
   "execution_count": null,
   "id": "cc3cee4e-a2cd-458b-bff4-47c7bdce0779",
   "metadata": {},
   "outputs": [],
   "source": [
    "# Tracer un cercle, pas à pas\n",
    "\n",
    "centre = (450, 300) # Centre du cercle\n",
    "r = 100 #rayon du cercle\n",
    "couleur3 = (0, 255, 0) #couleur en RGB\n",
    "largeur3 = -1 #largeur du contour en pixels\n",
    "\n",
    "canevas = cv2.circle(canevas, centre, r, couleur3, largeur3)\n",
    "plt.imshow(canevas)\n",
    "plt.show()"
   ]
  },
  {
   "cell_type": "markdown",
   "id": "ae78241d-d142-4be3-bc0c-aa04c5056e52",
   "metadata": {},
   "source": [
    "**Dans l'idée d'automatiser la tâche, on peut s'aider des dimensions de l'image**"
   ]
  },
  {
   "cell_type": "code",
   "execution_count": null,
   "id": "f4806380-3a4e-4b63-b2ba-d77349c66cd5",
   "metadata": {},
   "outputs": [],
   "source": [
    "# Faisons le drapeau des Pays Bas par exemple\n",
    "# d'abord les dimensions de notre image\n",
    "\n",
    "canevas_blanc.shape"
   ]
  },
  {
   "cell_type": "code",
   "execution_count": null,
   "id": "abc49315-ea63-4ee1-9506-ee67a915c773",
   "metadata": {},
   "outputs": [],
   "source": [
    "#indexer les valeurs\n",
    "\n",
    "canevas_blanc.shape[0]"
   ]
  },
  {
   "cell_type": "code",
   "execution_count": null,
   "id": "342066f8-a008-45fe-a661-5c0531333332",
   "metadata": {},
   "outputs": [],
   "source": [
    "# faisons la partie supérieur en rouge\n",
    "\n",
    "start_r = (0,0) #début du rectangle en haut à droite\n",
    "end_r = (canevas_blanc.shape[1], canevas_blanc.shape[0]//3)#fin de la ligne\n",
    "couleur_r = (200,16,46) #couleur RGB #https://flagcolor.com/netherlands-flag-colors/\n",
    "largeur_r = -1  # remplir la forme\n",
    "\n",
    "canevas_blanc = cv2.rectangle(canevas_blanc, start_r, end_r, couleur_r, largeur_r)\n",
    "plt.imshow(canevas_blanc)\n",
    "plt.show()"
   ]
  },
  {
   "cell_type": "code",
   "execution_count": null,
   "id": "4d373731-39c5-4c3d-ada6-5d9f37c47c16",
   "metadata": {},
   "outputs": [],
   "source": [
    "# faisons la partie inférieur en rouge\n",
    "\n",
    "start_b = (0,(canevas_blanc.shape[0]//3)*2) #début du rectangle en haut à droite\n",
    "end_b = (canevas_blanc.shape[1], canevas_blanc.shape[0])#fin de la ligne\n",
    "couleur_b = (0,61,165) #couleur RGB #https://flagcolor.com/netherlands-flag-colors/\n",
    "largeur_b = -1  # remplir la forme\n",
    "\n",
    "canevas_blanc = cv2.rectangle(canevas_blanc, start_b, end_b, couleur_b, largeur_b)\n",
    "plt.imshow(canevas_blanc)\n",
    "plt.show()"
   ]
  },
  {
   "cell_type": "markdown",
   "id": "a7e865ee-51b1-4575-a8c0-ab9bddd0282f",
   "metadata": {},
   "source": [
    "<div class=\"alert alert-block alert-warning\">\n",
    "<b>Exercice</b>: faites le drapeau de l'Italie, du Japon et de la Suisse.</div>"
   ]
  },
  {
   "cell_type": "code",
   "execution_count": null,
   "id": "68115735-ece2-42e2-9b0c-69704125f35e",
   "metadata": {},
   "outputs": [],
   "source": []
  },
  {
   "cell_type": "code",
   "execution_count": null,
   "id": "80cca19d-a9bc-43cd-b625-d6abdcbca560",
   "metadata": {},
   "outputs": [],
   "source": []
  },
  {
   "cell_type": "code",
   "execution_count": null,
   "id": "42790588-5c41-4fb9-8fd0-184a66dc9f63",
   "metadata": {},
   "outputs": [],
   "source": []
  },
  {
   "cell_type": "code",
   "execution_count": null,
   "id": "f1d4aced-33e0-436d-9835-70e6e5843688",
   "metadata": {},
   "outputs": [],
   "source": []
  },
  {
   "cell_type": "markdown",
   "id": "8ba6168d-29c7-4375-aef9-1dedbc297b31",
   "metadata": {},
   "source": [
    "### Exemple d'application : détourer sur une image\n",
    "\n",
    "Détourer une partie de l'image détectée au préalable : l'exemple de la détection de visage"
   ]
  },
  {
   "cell_type": "code",
   "execution_count": null,
   "id": "fc50947a-91f6-4856-81c6-b012d8d0d4c5",
   "metadata": {},
   "outputs": [],
   "source": [
    "# télécharger une image\n",
    "\n",
    "import requests \n",
    "\n",
    "DownURL = \"https://external-content.duckduckgo.com/iu/?u=http%3A%2F%2Fwww.bluebird-electric.net%2Facademia%2Facademia_pictures%2FUniversity_of_Geneva_Universite_de_Geneve_Switzerland_Planet_Solar.jpg&f=1&nofb=1&ipt=47cb55e9bf396b35de8f272546914dbe02979fdd2163fd7e2e15601bec35314c&ipo=images\" # choix de l'URL\n",
    "img_data = requests.get(DownURL).content # télécharger\n",
    "with open('unige.jpg', 'wb') as handler: # définir le fichier et son chemin\n",
    "    handler.write(img_data) # enregistrer l'image"
   ]
  },
  {
   "cell_type": "code",
   "execution_count": null,
   "id": "b5024c33-2603-4a69-b11b-d128cd8a85db",
   "metadata": {},
   "outputs": [],
   "source": [
    "# import notre image\n",
    "\n",
    "path = \"unige.jpg\"\n",
    "image = cv2.imread(path)\n",
    "image = cv2.cvtColor(image, cv2.COLOR_BGR2RGB)\n",
    "plt.imshow(image)\n",
    "plt.show()"
   ]
  },
  {
   "cell_type": "code",
   "execution_count": null,
   "id": "0bcd8420-e62a-43d0-9dd0-6585d370cb6f",
   "metadata": {},
   "outputs": [],
   "source": [
    "# Appliquer un algorithme simple\n",
    "# https://towardsdatascience.com/viola-jones-algorithm-and-haar-cascade-classifier-ee3bfb19f7d8\n",
    "\n",
    "grayscale_image = cv2.cvtColor(image, cv2.COLOR_BGR2GRAY)\n",
    "face_cascade = cv2.CascadeClassifier(\"haarcascade_frontalface_alt.xml\") #https://github.com/opencv/opencv/tree/master/data/haarcascades\n",
    "detected_faces = face_cascade.detectMultiScale(grayscale_image)"
   ]
  },
  {
   "cell_type": "code",
   "execution_count": null,
   "id": "79b0acb8-03c5-48a7-96b1-1c1fece28b53",
   "metadata": {},
   "outputs": [],
   "source": [
    "# Dessiner les lignes\n",
    "\n",
    "for (column, row, width, height) in detected_faces:\n",
    "    image = cv2.rectangle(image,(column, row),(column + width, row + height),(0, 255, 0),4)\n",
    "plt.imshow(image)\n",
    "plt.axis(\"off\")\n",
    "plt.show()"
   ]
  },
  {
   "cell_type": "code",
   "execution_count": null,
   "id": "945b2b73-a554-4186-ad6e-f143c69e11f9",
   "metadata": {},
   "outputs": [],
   "source": []
  },
  {
   "cell_type": "code",
   "execution_count": null,
   "id": "8891b9e8-9e4b-4830-a790-b04c532c4f09",
   "metadata": {},
   "outputs": [],
   "source": []
  },
  {
   "cell_type": "markdown",
   "id": "b5a59461-2ffd-4b02-b0b7-0fef08df861a",
   "metadata": {},
   "source": [
    "## **3. Manipuler avec l'indexation**\n",
    "\n",
    "### Recadrer\n",
    "\n",
    "L'indexation permet de recadrer une image. Cette tâche permet d'extraire des parties de l'image, par exemple."
   ]
  },
  {
   "cell_type": "code",
   "execution_count": null,
   "id": "eee60027-a418-49c3-93f7-e5b9aefac1a9",
   "metadata": {},
   "outputs": [],
   "source": [
    "# import notre image\n",
    "\n",
    "plt.imshow(image)\n",
    "plt.show()"
   ]
  },
  {
   "cell_type": "code",
   "execution_count": null,
   "id": "fc67ec1f-a88b-48db-9a26-a5bfc4b2bf98",
   "metadata": {},
   "outputs": [],
   "source": [
    "# Les infos de la détection\n",
    "\n",
    "path = \"unige.jpg\"\n",
    "image = cv2.imread(path)\n",
    "image = cv2.cvtColor(image, cv2.COLOR_BGR2RGB)\n",
    "detected_faces"
   ]
  },
  {
   "cell_type": "code",
   "execution_count": null,
   "id": "bdf955c3-f8de-42eb-96bf-0e1757aa317a",
   "metadata": {},
   "outputs": [],
   "source": [
    "# Combien de têtes ?\n",
    "\n",
    "len(detected_faces)"
   ]
  },
  {
   "cell_type": "code",
   "execution_count": null,
   "id": "5bb3434e-9dbb-49bd-88f6-ede80d3b7041",
   "metadata": {},
   "outputs": [],
   "source": [
    "# les informations pour recadrer\n",
    "\n",
    "d1 = detected_faces[0][0] # début de la ligne\n",
    "d2 = detected_faces[0][1] # début de la colonne\n",
    "f1 =  detected_faces[0][0] + detected_faces[0][2] # fin de la ligne\n",
    "f2 = detected_faces[0][1] + detected_faces[0][3] # fin de la colonne\n",
    "print(d1, d2, f1, f2)"
   ]
  },
  {
   "cell_type": "code",
   "execution_count": null,
   "id": "c6e26335-5e24-4fd7-a99f-5e663b282302",
   "metadata": {},
   "outputs": [],
   "source": [
    "# recadrer avec les coordonnées\n",
    "\n",
    "image_rec = image[d2:f2, d1:f1]\n",
    "plt.imshow(image_rec)\n",
    "plt.show()"
   ]
  },
  {
   "cell_type": "code",
   "execution_count": null,
   "id": "98a7df97-0f22-49d3-8409-d11bda15f47c",
   "metadata": {},
   "outputs": [],
   "source": [
    "# Sauvegarder une image\n",
    "\n",
    "image_save = cv2.cvtColor(image_rec, cv2.COLOR_RGB2BGR) #on change les canaux à nouveau\n",
    "cv2.imwrite('image_visage1.jpg',image_save)"
   ]
  },
  {
   "cell_type": "markdown",
   "id": "5008512a-f02b-4513-be08-490a5f3b1130",
   "metadata": {},
   "source": [
    "### Supplément : modifier les dimensions\n",
    "\n",
    "Lorsqu'on manipule des images, on a parfois besoins de changer leur format en gardant ou non les dimensions"
   ]
  },
  {
   "cell_type": "code",
   "execution_count": null,
   "id": "2240ee8a-b1bf-422d-81bd-a688bafd5ddc",
   "metadata": {},
   "outputs": [],
   "source": [
    "# Redimensionner \n",
    "# Par exemple une image de 500 sur 500\n",
    "\n",
    "l = 500\n",
    "h = 500\n",
    "dim = (l, h)\n",
    "redim_image = cv2.resize(image, dim)\n",
    "plt.imshow(redim_image)\n",
    "plt.show()"
   ]
  },
  {
   "cell_type": "markdown",
   "id": "f4b5ddc3-17fe-49ed-a716-8abef87568a8",
   "metadata": {},
   "source": [
    "**Dans Open CV il existe plusieurs manières de redimensionner :**\n",
    "\n",
    "* INTER_AREA = utilise le pixel par rapport à sa zone pour le réechantillonage, pour la réduction de taille\n",
    "* INTER_CUBIC = prend le moyenne des poids des 16 pixels autour d'un pixel pour réechantilloner\n",
    "* INTER_LINEAR = similaire au INTER_CUBIC, avec un voisinage plus faible\n",
    "* INTER_NEAREST = la méthode la plus simple"
   ]
  },
  {
   "cell_type": "code",
   "execution_count": null,
   "id": "c2bceb8c-f03a-47f0-bc7e-35e2730fb0e9",
   "metadata": {},
   "outputs": [],
   "source": [
    "# Redimensionner \n",
    "# Par exemple une image de 600 sur 600\n",
    "\n",
    "l = 500\n",
    "h = 500\n",
    "dim = (l, h)\n",
    "redim_image = cv2.resize(image, dim, interpolation= cv2.INTER_AREA)\n",
    "plt.imshow(redim_image)\n",
    "plt.show()"
   ]
  },
  {
   "cell_type": "code",
   "execution_count": null,
   "id": "afa129b6-5ea5-44aa-931e-e12876825ddd",
   "metadata": {},
   "outputs": [],
   "source": [
    "# Redimensionner \n",
    "# On peut aussi redimensionner en gardant les proportions, de la hauteur ou de la largeur\n",
    "# exemple, une hateur de 500\n",
    "\n",
    "(h, l) = image.shape[:2]\n",
    "newh = 1500\n",
    "ratio = newh/ float(h)\n",
    "newdim = (int(l * ratio), newh)\n",
    "redim_image = cv2.resize(image, newdim)\n",
    "print(image.shape)\n",
    "print(redim_image.shape)\n",
    "plt.imshow(redim_image)\n",
    "plt.show()"
   ]
  },
  {
   "cell_type": "markdown",
   "id": "4ad897c7-e4b2-4b5f-bf01-dce98091162b",
   "metadata": {},
   "source": [
    "### Tout ça pour? \n",
    "\n",
    "Un exercice!"
   ]
  },
  {
   "cell_type": "markdown",
   "id": "274d124f-e38f-487d-a60a-ca10710142f5",
   "metadata": {},
   "source": [
    "<div class=\"alert alert-block alert-warning\">\n",
    "<b>Exercice</b>: à partir du code que vous avez produit la semaine dernière. Créez une fonction qui télécharge une image, détecte les visage (en disant combien vous en avez) et découpe les visage.</div>"
   ]
  },
  {
   "cell_type": "code",
   "execution_count": null,
   "id": "9b2ad232-757a-435a-bf0e-80b11d013d6a",
   "metadata": {},
   "outputs": [],
   "source": []
  }
 ],
 "metadata": {
  "kernelspec": {
   "display_name": "image",
   "language": "python",
   "name": "image"
  },
  "language_info": {
   "codemirror_mode": {
    "name": "ipython",
    "version": 3
   },
   "file_extension": ".py",
   "mimetype": "text/x-python",
   "name": "python",
   "nbconvert_exporter": "python",
   "pygments_lexer": "ipython3",
   "version": "3.8.13"
  }
 },
 "nbformat": 4,
 "nbformat_minor": 5
}

{
 "cells": [
  {
   "cell_type": "markdown",
   "id": "5438c4d2-c617-4e62-8a5f-ede46becc5a9",
   "metadata": {},
   "source": [
    "# Comment la machine voit-elle l'image?\n",
    "\n",
    "## Du pixel aux images - 32M7138\n",
    "\n",
    "*Printemps 2024 - Université de Genève*\n",
    "\n",
    "*Adrien Jeanrenaud (adrien.jeanrenaud@unige.ch)*"
   ]
  },
  {
   "cell_type": "markdown",
   "id": "f57b8523-d958-43c3-ba76-87967d79bc30",
   "metadata": {},
   "source": [
    "<div class=\"alert alert-block alert-info\">\n",
    "<b>L'image dans la machine</b> : l'image prend la forme d'une grille de pixels sur notre machine. \n",
    "    <br>Cette grille de pixels s'appelle une matrice. Pour pouvoir la visualiser il faut écire quelques lignes de code. \n",
    "    <br>Après avoir vu les bases de Python, nous pouvons désormais utiliser le langage pour, dans un premier temps, comprendre qu'est-ce qu'une image sur notre machine. Pour ce faire, le plan du cours est:\n",
    "</div>\n",
    "\n",
    "## **Plan du cours**\n",
    "\n",
    "> **Importer et voir une image sur notre machine**\n",
    "> * Indiquer à la machine où est l'image\n",
    "> * Est-ce bien un chemin ?\n",
    "> * Importer une image\n",
    "> * Visualiser avec Python (matplotlib)\n",
    "> * Quelques ajustements\n",
    "\n",
    "> **Matrice = image**\n",
    "> * Une matrice c'est quoi ?\n",
    "> * La matrice à 1 dimensions: une liste, un tuple, déjà une image\n",
    "> * La matrice à 2 dimensions: valeurs de gris\n",
    "> * La matrice à 3 dimensions: les couleurs\n",
    "> * Les informations de base\n",
    "\n",
    "> **Les principaux référentiels de couleurs**\n",
    "> * Red Blue Green : RGB\n",
    "> * Hue Saturation Value : HSV\n",
    "> * Mais encore"
   ]
  },
  {
   "cell_type": "markdown",
   "id": "08ceddb1-ca6b-4f62-9a3e-f7fd99021738",
   "metadata": {},
   "source": [
    "## **1. Import et voir une image sur notre machine**\n",
    "### Indiquer à la machine où est l'image\n",
    "\n",
    "Pour pouvoir visualiser une image avec Pyhton, il faut d'abord donner le chemin de l'image en entrée. Il y a deux manières d'écrire un chemin:\n",
    "- Chemin absolu\n",
    "- Chemin relatif\n",
    "\n",
    "#### Chemin absolu\n",
    "Le chemin absolu se définit par rapport au dossier \"racine\" de votre machine (cf. Terminal). C'est-à-dire qu'il part du \"premier dossier\", ce qu'on appel la racine. Ensuite, le chemin va de dossier en dossier pour arriver là où se trouve le fichier recherché.\n",
    "\n",
    "**Si vous ne savez pas comme le chemin se nomme, ne vous inquiétez pas: \"os\" est là pour ça!**"
   ]
  },
  {
   "cell_type": "code",
   "execution_count": null,
   "id": "d6aaf12e-d7c0-4acc-aac1-5b8384b0bf33",
   "metadata": {},
   "outputs": [],
   "source": [
    "# importer la librairie\n",
    "\n",
    "import os"
   ]
  },
  {
   "cell_type": "code",
   "execution_count": null,
   "id": "9a0a7aa5-f448-4db0-985c-3aa8a1793646",
   "metadata": {},
   "outputs": [],
   "source": [
    "# savoir dans quel dossier nous sommes\n",
    "\n",
    "os.getcwd()"
   ]
  },
  {
   "cell_type": "markdown",
   "id": "18776673-ce3c-4c4c-930d-ee5be20bf930",
   "metadata": {},
   "source": [
    "#### Chemin relatif\n",
    "\n",
    "\n",
    "Le chemin relatif, comme son nom l'indique, est relatif à l'endroit depuis lequel je me trouve (le code). Dans quelle partie de ma machine, dans quelle suite de dossier et quel dossier suis-je actuellement ?\n",
    "\n",
    "**Maintenant, vous savez dans quel dossier vous êtes. Mais comment naviguer?**"
   ]
  },
  {
   "cell_type": "code",
   "execution_count": null,
   "id": "bae00728-d84e-478a-8c53-44ca6d25874b",
   "metadata": {},
   "outputs": [],
   "source": [
    "# Pour sortir d'un dossier utiliser les ..\n",
    "\n",
    "path = \"..\""
   ]
  },
  {
   "cell_type": "code",
   "execution_count": null,
   "id": "a04e2d9b-68da-419c-9569-b33e87d90644",
   "metadata": {
    "tags": []
   },
   "outputs": [],
   "source": [
    "os.listdir(path)"
   ]
  },
  {
   "cell_type": "code",
   "execution_count": null,
   "id": "60242ea9-f16b-46fd-b945-362a6a3dca5d",
   "metadata": {},
   "outputs": [],
   "source": [
    "# Pour sortir d'un dossier et aller dans un autre\n",
    "\n",
    "path = \"../data\""
   ]
  },
  {
   "cell_type": "code",
   "execution_count": null,
   "id": "56ef052a-51db-4604-b0f3-029f6bac3fe2",
   "metadata": {
    "tags": []
   },
   "outputs": [],
   "source": [
    "os.listdir(path)"
   ]
  },
  {
   "cell_type": "markdown",
   "id": "9f09fe99-0d46-4321-9b68-a833e7014885",
   "metadata": {},
   "source": [
    "**On vient de voir la commande \"os.listdir()\". Cela va nous permettre de lister ce que nous avons dans notre dossier, dont une image!**"
   ]
  },
  {
   "cell_type": "code",
   "execution_count": null,
   "id": "20c7bd73-874f-41cd-b70d-f17e3c1cd9a0",
   "metadata": {},
   "outputs": [],
   "source": [
    "# Alors trouvons une image\n",
    "\n",
    "os.listdir()"
   ]
  },
  {
   "cell_type": "code",
   "execution_count": null,
   "id": "a9413c97-f9f9-41ba-a88a-21748f9c7eb4",
   "metadata": {},
   "outputs": [],
   "source": [
    "# En bash ça fonctionne aussi\n",
    "\n",
    "%ls"
   ]
  },
  {
   "cell_type": "code",
   "execution_count": null,
   "id": "2061d70c-0c6b-4c36-9be4-c613b47a7299",
   "metadata": {},
   "outputs": [],
   "source": [
    "# Mieux encore!\n",
    "\n",
    "%ls -la"
   ]
  },
  {
   "cell_type": "markdown",
   "id": "eadf88fd-46ad-4538-970e-e5813bbb8362",
   "metadata": {},
   "source": [
    "**Maintenant qu'on connait notre chemin et notre fichier on peut faire un chemin à notre fichier!**"
   ]
  },
  {
   "cell_type": "code",
   "execution_count": null,
   "id": "b3906f28-f97f-4728-8601-a9c519c66124",
   "metadata": {},
   "outputs": [],
   "source": [
    "%pwd"
   ]
  },
  {
   "cell_type": "code",
   "execution_count": null,
   "id": "6b07d8b7-d3d4-4c2b-af01-12ab4f9bf3dd",
   "metadata": {},
   "outputs": [],
   "source": [
    "# On peut tout écrire d'un coup, en chemin relatif ou absolu\n",
    "\n",
    "image = \"images/japanPoster.jpg\""
   ]
  },
  {
   "cell_type": "code",
   "execution_count": null,
   "id": "3f82909d-7572-4723-a3c5-62f326b8492e",
   "metadata": {},
   "outputs": [],
   "source": [
    "# On peut aussi joindre le chemin et le fichier avec \"os\"\n",
    "\n",
    "chemin = \"iamges/\"\n",
    "image = \"japanPoster.jpg\"\n",
    "chemin_image = os.path.join(chemin, image)\n",
    "print(chemin_image)"
   ]
  },
  {
   "cell_type": "markdown",
   "id": "c191fb15-3e7a-488e-9aeb-b599b535f145",
   "metadata": {},
   "source": [
    "### Est-ce bien un chemin ?\n",
    "\n",
    "La mauvaise définition du chemin d'une image est une source d'erreur fréquente. Heureusement il existe des moyens de vérifier "
   ]
  },
  {
   "cell_type": "code",
   "execution_count": null,
   "id": "f9b4145d-cb59-455f-b471-c3324328e42a",
   "metadata": {},
   "outputs": [],
   "source": [
    "# d'abord vérifier le chemin au dossier\n",
    "\n",
    "os.path.isdir(os.getcwd())"
   ]
  },
  {
   "cell_type": "code",
   "execution_count": null,
   "id": "2d236595-0d3e-4cea-8567-5114fea02faa",
   "metadata": {},
   "outputs": [],
   "source": [
    "# Ensuite vérifier le fichier\n",
    "\n",
    "chemin_image = \"cours4-machine_image.ipynb\"\n",
    "os.path.isfile(chemin_image)"
   ]
  },
  {
   "cell_type": "markdown",
   "id": "e28793f3-a337-4adf-8f25-47ead8b35015",
   "metadata": {},
   "source": [
    "### Importer une image\n",
    "\n",
    "Enfin on va pouvoir importer une image!"
   ]
  },
  {
   "cell_type": "code",
   "execution_count": null,
   "id": "d72321c1-06ab-4927-906c-f6fedf468122",
   "metadata": {},
   "outputs": [],
   "source": [
    "# on définit le chemin\n",
    "\n",
    "path = \"images/japanPoster.jpg\""
   ]
  },
  {
   "cell_type": "code",
   "execution_count": null,
   "id": "1d171e1e-b41b-4821-9eaf-5f1b49d3c14e",
   "metadata": {},
   "outputs": [],
   "source": [
    "# on vérifie le chemin\n",
    "\n",
    "os.path.isfile(path)"
   ]
  },
  {
   "cell_type": "code",
   "execution_count": null,
   "id": "28a425d6-9954-40ea-9b1f-97139d5f892f",
   "metadata": {},
   "outputs": [],
   "source": [
    "# Ensuite on peut importer avec \"cv2.imread()\"\n",
    "\n",
    "import cv2\n",
    "\n",
    "?cv2.imread"
   ]
  },
  {
   "cell_type": "code",
   "execution_count": null,
   "id": "8ed5d40b-fd4d-45b5-8f97-bd48d26d8809",
   "metadata": {},
   "outputs": [],
   "source": [
    "# une autre librairie\n",
    "from PIL import Image\n",
    "\n",
    "?Image.open"
   ]
  },
  {
   "cell_type": "code",
   "execution_count": null,
   "id": "6f8242ef-d219-4f2e-9749-3a381f049e58",
   "metadata": {},
   "outputs": [],
   "source": [
    "# on définit notre objet image\n",
    "\n",
    "image = cv2.imread(path)"
   ]
  },
  {
   "cell_type": "code",
   "execution_count": null,
   "id": "c4f13867-ace2-4236-8948-458daf57ca1d",
   "metadata": {},
   "outputs": [],
   "source": [
    "# Pour l'instant ça nous parle peu, on verra ce que cela signifie dans un instant\n",
    "\n",
    "image"
   ]
  },
  {
   "cell_type": "markdown",
   "id": "6d9f135e-94f3-4ab5-ab9f-ed198dd17350",
   "metadata": {},
   "source": [
    "### Visualiser avec matplotlib\n",
    "\n",
    "Notre variable \"image\" peut se visualiser directement dans notre Notebook grâce à la librairie \"matplotlib\""
   ]
  },
  {
   "cell_type": "code",
   "execution_count": null,
   "id": "7ac7bf04-434a-4a51-aa01-5bfaadd59213",
   "metadata": {},
   "outputs": [],
   "source": [
    "# importer la librairie\n",
    "\n",
    "import matplotlib.pyplot as plt"
   ]
  },
  {
   "cell_type": "code",
   "execution_count": null,
   "id": "49af2cc1-c91a-445c-856f-0718e01deb4f",
   "metadata": {},
   "outputs": [],
   "source": [
    "# simplement\n",
    "\n",
    "plt.imshow(image)\n",
    "plt.show()"
   ]
  },
  {
   "cell_type": "markdown",
   "id": "ba645e6e-085d-493d-8ad7-10db3d36b004",
   "metadata": {},
   "source": [
    "<div class=\"alert alert-block alert-danger\">\n",
    "<b>Oups, on a un petit problème de couleurs non?</b>.\n",
    "</div>"
   ]
  },
  {
   "cell_type": "markdown",
   "id": "17925936-449a-4fac-9232-236d99d3df3f",
   "metadata": {},
   "source": [
    "### Quelques ajustement\n",
    "\n",
    "La librairie \"cv2\" importe les couleurs des images avec un ordre différent duquel nous les visualisons. Pas de problème ça se modifie simplement."
   ]
  },
  {
   "cell_type": "code",
   "execution_count": null,
   "id": "4d1ffda0-ad21-44af-9ea2-94c6f450d4d8",
   "metadata": {},
   "outputs": [],
   "source": [
    "# Il suffit de changer l'ordre à nouveaux\n",
    "# On passe du BlueGreenRed au RedBlueGreen, mais nous verrons ce que ça veut dire dans un instant\n",
    "\n",
    "image = cv2.cvtColor(image, cv2.COLOR_BGR2RGB)\n",
    "plt.imshow(image)\n",
    "plt.show()"
   ]
  },
  {
   "cell_type": "code",
   "execution_count": null,
   "id": "94072a25-19ad-4831-a6a2-df2230b02b11",
   "metadata": {},
   "outputs": [],
   "source": [
    "# avec PIL, pas besoin de conversion\n",
    "\n",
    "image2 = Image.open(path)\n",
    "plt.imshow(image2)\n",
    "plt.show()"
   ]
  },
  {
   "cell_type": "markdown",
   "id": "af1f948b-22d1-44d4-bf93-35e57cfbf681",
   "metadata": {},
   "source": [
    "<div class=\"alert alert-block alert-warning\">\n",
    "<b>Exercice</b>: à partir du code ci-dessous, téléchargez une image d'après sont lien (URL) et visualisez là.</div>"
   ]
  },
  {
   "cell_type": "code",
   "execution_count": null,
   "id": "091de4f7-c4af-4926-9600-2e2aad85eb91",
   "metadata": {},
   "outputs": [],
   "source": [
    "# Code pour télécharger une image\n",
    "\n",
    "import requests #librairie pour le scraping\n",
    "\n",
    "DownURL = \"\" # choix de l'URL\n",
    "img_data = requests.get(DownURL).content # télécharger\n",
    "with open('image_name.jpg', 'wb') as handler: # définir le fichier et son chemin\n",
    "    handler.write(img_data) # enregistrer l'image"
   ]
  },
  {
   "cell_type": "code",
   "execution_count": null,
   "id": "03717913-4a67-4da5-87a9-1c8b82f21785",
   "metadata": {},
   "outputs": [],
   "source": [
    "# A vous de jouer maintenant"
   ]
  },
  {
   "cell_type": "code",
   "execution_count": null,
   "id": "8e564df8-1b53-420e-ad96-23cf0c4513c3",
   "metadata": {},
   "outputs": [],
   "source": []
  },
  {
   "cell_type": "code",
   "execution_count": null,
   "id": "89cedb98-d6d2-4c6c-979d-efa5df83c142",
   "metadata": {},
   "outputs": [],
   "source": []
  },
  {
   "cell_type": "markdown",
   "id": "df69db04-266b-4f4f-a10e-f9b1a452f02e",
   "metadata": {},
   "source": [
    "## 2. **La matrice = l'image**\n",
    "\n",
    "### Une matrice c'est quoi ?\n",
    "\n",
    "Une image numérique prend la forme d'une **matrice** : une matrice est un tableau de points caractérisé par des **dimensions** (par exemple, la largeur et la hauteur). Chaque point, chaque case comporte une **valeur** qui représente de l'information. \n",
    "\n",
    "D'une manière générale, une image matricielle est représenté par une grille dont la hauteur et la largeur indiquent le nombre de pixels et la taille de l'image, alors que chaque point renvoie à une valeur de couleur (valeurs de gris pour les images en 2D et couleurs pour les images 3D)\n",
    "\n",
    "<img src=\"https://logodix.com/logo/2067282.png\" title=\"array_1\"/>\n",
    "\n",
    "### La matrice à 1 dimensions: une liste, un tuple, déjà une image\n",
    "\n",
    "Une matrice à 1D prend la forme d'une liste. Par rapport à une image, c'est comme si notre image (avec une hauteur et une largeur) était réduite à sa largeur. \n",
    "\n",
    "Dans certains cas, il est possible qu'une image en 2D soit réduite à 1D afin d'avoir un objet (une liste à 1D) plus manipulable sans toutefois perdre de l'information (par rapport à l'image 2D)"
   ]
  },
  {
   "cell_type": "code",
   "execution_count": null,
   "id": "289920ee-d206-40cb-bfe6-78ee694e2424",
   "metadata": {},
   "outputs": [],
   "source": [
    "# Une matrice à 1D\n",
    "# La fonction np.array() permet de créer un tableau de valeurs (array)\n",
    "# une image est un array\n",
    "\n",
    "import numpy as np\n",
    "\n",
    "a = np.array([0,1,2,3,4,5,6,7,8,9])\n",
    "print(a)"
   ]
  },
  {
   "cell_type": "markdown",
   "id": "4075a5a9-ff1b-40a9-b79c-3c82091193b6",
   "metadata": {},
   "source": [
    "### La matrice à 2 dimensions: valeurs de gris\n",
    "\n",
    "Une image, comme nous la voyons, se caractérise par une hauteur et une largeur, donc par deux dimensions. Ces deux dimensions forment spatialement l'image et chaque point contenu dans cette grille à une valeur. Cette valeur, dans une image 2D, se réfère à une valeur de gris comprise entre 0 et 255.\n",
    "\n",
    "<img src=\"https://external-content.duckduckgo.com/iu/?u=https%3A%2F%2Fmiro.medium.com%2Fmax%2F1386%2F1*bV7S0zACdidh11ikjYpLpQ.png&f=1&nofb=1&ipt=fdde33a6c1082d8f4d5e278d4eb9295103a87ed0ae39e89bce8081c15e12ff6f&ipo=images\" title=\"array_2\"/>\n",
    "\n",
    "Les valeurs de gris vont de 0 à 255, c'est à dire que l'information est représentée par 256 valeurs différentes. Les valeurs de gris dépendent de la manière dont elles sont encodées ; plus généralement, il y a 256 valeurs de 0 (noir) à 255 (blanc)."
   ]
  },
  {
   "cell_type": "code",
   "execution_count": null,
   "id": "923a7208-efa4-4ff1-929c-2622be6a2bd0",
   "metadata": {},
   "outputs": [],
   "source": [
    "# Une matrice à 2D\n",
    "# La fonction np.array() permet de créer un tableau (array) en 2D, pour cela il suffit de suivre la logique:\n",
    "# la première paire de [] forme la matrice et \n",
    "# à l'intérieur chaque [] forme une ligne dans la matrice, et\n",
    "# à l'inétrieur de ces [] chaque valeur est un point qui dans une image est une valeur de gris\n",
    "\n",
    "b = np.array([[0,1,2],[3,4,5],[6,7,8],[9,10,11]])\n",
    "print(b)"
   ]
  },
  {
   "cell_type": "code",
   "execution_count": null,
   "id": "88227030-f397-46f9-8711-a387ee39cd3f",
   "metadata": {},
   "outputs": [],
   "source": [
    "# Nous pouvons faire un teste pour visualiser notre matrice et ses valeurs de gris\n",
    "\n",
    "plt.imshow(b, cmap=\"gray\", vmin=0, vmax=255) # l'option cmpa=\"gray\" permet de visualiser les valeurs de gris en spéficiant les bornes (entre 0 et 255)\n",
    "plt.show()"
   ]
  },
  {
   "cell_type": "markdown",
   "id": "6a26ea4a-e5bc-40bd-978c-e77e8c612a01",
   "metadata": {},
   "source": [
    "**Les valeurs choisises sont toutes très proches de 0, on ne voit pas très bien les variations: essayons à nouveau!**"
   ]
  },
  {
   "cell_type": "code",
   "execution_count": null,
   "id": "1bc39f8d-50b8-4bda-8008-344f6d4ff117",
   "metadata": {},
   "outputs": [],
   "source": [
    "# Un nouvel array à 2D\n",
    "\n",
    "b2 = np.array([[0,112,2],[3,224,5],[136,7,8],[119,101,110]])\n",
    "print(b2)"
   ]
  },
  {
   "cell_type": "code",
   "execution_count": null,
   "id": "5b2b6f9b-8e3a-46e8-be8a-04ece746bc81",
   "metadata": {},
   "outputs": [],
   "source": [
    "# Visualiser notre matrice et ses valeurs de gris\n",
    "\n",
    "plt.imshow(b2, cmap=\"gray\", vmin=0, vmax=255)\n",
    "plt.show()"
   ]
  },
  {
   "cell_type": "markdown",
   "id": "6782b86a-cf6e-4511-a45e-0e21bac947d3",
   "metadata": {},
   "source": [
    "<div class=\"alert alert-block alert-warning\">\n",
    "<b>Exercice</b>: créez et visualiser une image montrant toutes les valeurs de gris, en générant les couleurs à l'aide d'une boucle \"for\", vu la semaine passée.</div>"
   ]
  },
  {
   "cell_type": "code",
   "execution_count": null,
   "id": "b76f786f-80bb-4ccc-a04f-93e5d6eb14e5",
   "metadata": {},
   "outputs": [],
   "source": [
    "# aide\n",
    "# le code pour créer l'arry ressemble à ça:\n",
    "\n",
    "dimensions = (x, y) #choix des dimensions\n",
    "\n",
    "# Convert the list to a NumPy array with the specified dimensions\n",
    "result_array = np.array(colors).reshape(dimensions)"
   ]
  },
  {
   "cell_type": "code",
   "execution_count": null,
   "id": "9a16525c-dc09-4292-b8f5-a9e552ca032c",
   "metadata": {},
   "outputs": [],
   "source": []
  },
  {
   "cell_type": "markdown",
   "id": "d8d1eec7-2977-4ab8-a2e0-1e3dc9d104e4",
   "metadata": {},
   "source": [
    "### La matrice à 3 dimensions: les couleurs\n",
    "\n",
    "Contrairement à ce que nous voyons sur notre écran, une image de couleurs se déploie numériquement sur trois dimensions. \n",
    "\n",
    "Alors que les deux premières dimensions sont la hauteur et la largeur, la troisième dimension et celle des valeurs de couleurs. Tout comme pour une image en 2D, chaque valeur du tableau est encodée entre 0 et 255, mais c'est l'addition des valeurs des trois matrices qui donne les couleurs et ses nuances.\n",
    "\n",
    "<img src=\"https://external-content.duckduckgo.com/iu/?u=https%3A%2F%2Fbrohrer.github.io%2Fimages%2Fimage_processing%2Frgb_arrays.png&f=1&nofb=1&ipt=d2b56511f6feae071ef2f5d795df4c23076cdc90d482450f89337c061f06cd43&ipo=images\" title=\"array_3\"/>"
   ]
  },
  {
   "cell_type": "code",
   "execution_count": null,
   "id": "2b79e99c-a844-427d-b379-613c60466c69",
   "metadata": {},
   "outputs": [],
   "source": [
    "# Une matrice à 3D\n",
    "# La fonction np.array() permet de créer un tableau (array) en 3D, pour cela il suffit de suivre la logique:\n",
    "# la première paire de [] forme la matrice et \n",
    "# à l'intérieur chaque [] forme une ligne dans la matrice, et\n",
    "# à l'intérieur de ces [] chaque [] forme un triplet de valeurs qui s'étend dans la troisième dimension\n",
    "\n",
    "c = np.array([[[123,111,222],\n",
    "               [200,24,5],\n",
    "               [60,70,80]],\n",
    "              [[90,100,11],\n",
    "               [120,13,140],\n",
    "               [15,160,170]]])\n",
    "print(c)"
   ]
  },
  {
   "cell_type": "code",
   "execution_count": null,
   "id": "ec182cfc-b174-4c2b-bc62-6babad065292",
   "metadata": {},
   "outputs": [],
   "source": [
    "# Nous pouvons visualiser notre matrice et ses couleurs\n",
    "# Vous pouvez jouer avec les valeurs de votre matrice afin de voir intuitivement comment se forment les couleurs\n",
    "\n",
    "plt.imshow(c)\n",
    "plt.show()"
   ]
  },
  {
   "cell_type": "markdown",
   "id": "e8b9cfbf-b106-43bf-b5d3-63a0082d2e36",
   "metadata": {},
   "source": [
    "### Les informations de base\n",
    "\n",
    "Il existe quelques fonction de base en Python afin de comprendre quel type d'objet nous avons."
   ]
  },
  {
   "cell_type": "code",
   "execution_count": null,
   "id": "df53a0b5-4de0-4752-8b8e-0b796045f363",
   "metadata": {},
   "outputs": [],
   "source": [
    "# Est-ce une image ?\n",
    "\n",
    "type(image)"
   ]
  },
  {
   "cell_type": "code",
   "execution_count": null,
   "id": "43ec80e5-b438-46c6-8be2-f7a20946e157",
   "metadata": {},
   "outputs": [],
   "source": [
    "# Est-ce une image ?\n",
    "\n",
    "type(b)"
   ]
  },
  {
   "cell_type": "code",
   "execution_count": null,
   "id": "eaa8388e-ffff-4bb3-b9f3-682f61b5e49e",
   "metadata": {},
   "outputs": [],
   "source": [
    "# Quelles dimensions\n",
    "\n",
    "image.shape"
   ]
  },
  {
   "cell_type": "code",
   "execution_count": null,
   "id": "57e213e4-ba91-468d-997c-1ca3754fe4d1",
   "metadata": {},
   "outputs": [],
   "source": [
    "# Quelles dimensions\n",
    "\n",
    "a.shape"
   ]
  },
  {
   "cell_type": "code",
   "execution_count": null,
   "id": "8eace5e5-c3cd-482c-a1e4-932dff3eb764",
   "metadata": {},
   "outputs": [],
   "source": [
    "# Quels dimensions\n",
    "\n",
    "b2.shape"
   ]
  },
  {
   "cell_type": "code",
   "execution_count": null,
   "id": "243362b9-8ee1-4951-a1a5-e87bf1b34bb7",
   "metadata": {},
   "outputs": [],
   "source": [
    "# Quel taille\n",
    "\n",
    "a.size"
   ]
  },
  {
   "cell_type": "code",
   "execution_count": null,
   "id": "ab0e055e-bad3-4533-b00b-96d408513bfb",
   "metadata": {},
   "outputs": [],
   "source": [
    "# Quel taille\n",
    "\n",
    "b.size"
   ]
  },
  {
   "cell_type": "code",
   "execution_count": null,
   "id": "348f9399-0a62-479e-ac03-05bc89aae625",
   "metadata": {},
   "outputs": [],
   "source": [
    "# Quel taille\n",
    "\n",
    "image.size"
   ]
  },
  {
   "cell_type": "markdown",
   "id": "422bb97e-4588-4afd-a076-f7f2f5c74dce",
   "metadata": {},
   "source": [
    "<div class=\"alert alert-block alert-warning\">\n",
    "<b>Exercice</b>: \n",
    "    <br>Importez une image couleur, visualisez là et imprimer (print) en même temps ses dimensions et sa taille. \n",
    "    <br>Dans un second temps, transformez cette même image couleur en valeurs de gris et faites là même chose que précèdemment.</div>"
   ]
  },
  {
   "cell_type": "code",
   "execution_count": null,
   "id": "52cad984-f855-48dd-abe7-5c81cf023649",
   "metadata": {},
   "outputs": [],
   "source": [
    "# partie 1\n",
    "\n"
   ]
  },
  {
   "cell_type": "code",
   "execution_count": null,
   "id": "b873c8d6-9463-407b-969e-6ad99d0b2fe3",
   "metadata": {},
   "outputs": [],
   "source": [
    "# partie 2\n",
    "# gray = cv2.cvtColor(image, cv2.COLOR_BGR2GRAY)\n",
    "\n",
    "\n"
   ]
  },
  {
   "cell_type": "markdown",
   "id": "7d8a80c4-6645-4a58-9cad-3dba9d6595ab",
   "metadata": {},
   "source": [
    "## **Les principaux référentiels de couleurs**\n",
    "\n",
    "Il existe différentes manière d'encoder les couleurs d'une image numérique, mais la manière la plus courante consiste à faire l'addition de trois couleurs - rouge, vert, bleu - pour obtenir toutes les autres couleurs. Ainsi, nous parlons d'images en RGB (Red, Green, Blue). \n",
    "\n",
    "L'encodage des couleurs est la source du problème dans l'importation des images avec OpenCV (voir ci-dessus). En effet, nous visualisons nos images avec une suite RGB alors qu'OpenCV importe les images avec une suite BGR.\n",
    "\n",
    "### Red Blue Green : RGB\n",
    "\n",
    "\n",
    "<img src=\"https://external-content.duckduckgo.com/iu/?u=https%3A%2F%2Fcdncontribute.geeksforgeeks.org%2Fwp-content%2Fuploads%2FPixel.jpg&f=1&nofb=1&ipt=7cb426810b518f590b1c3e809c55876ab2c8530ec4a3559fd40abebb754ff8fb&ipo=images\" title=\"array_color\"/>"
   ]
  },
  {
   "cell_type": "markdown",
   "id": "020331c3-7d2f-483a-88ab-0e1dcf5a46e0",
   "metadata": {},
   "source": [
    "Il s'agit simplement d'addtioner les couleurs pour arriver au blanc, et de les soustraires pour arriver au noir.\n",
    "\n",
    "<img src=\"https://external-content.duckduckgo.com/iu/?u=https%3A%2F%2Fthumbs.dreamstime.com%2Fb%2Fadditive-color-mixing-scheme-rgb-colors-theory-151820794.jpg&f=1&nofb=1&ipt=1a310be6ef33188c84014c51bb23af2cd39de0b1a2e1b82c39a3217087c52752&ipo=images\" title=\"array_color2\"/>"
   ]
  },
  {
   "cell_type": "code",
   "execution_count": null,
   "id": "fdde21b3-d0c2-44ca-8266-502fa5832536",
   "metadata": {},
   "outputs": [],
   "source": [
    "# Reprenons notre matrice ci-dessus et mettons y les triplets des couleurs de base\n",
    "\n",
    "c2 = np.array([[[255,0,0],\n",
    "               [0,255,0],\n",
    "               [0,0,255]],\n",
    "              [[255,0,255],\n",
    "               [0,255,255],\n",
    "               [255,255,0]]])\n",
    "print(c2)\n",
    "\n",
    "plt.imshow(c2)\n",
    "plt.show()"
   ]
  },
  {
   "cell_type": "code",
   "execution_count": null,
   "id": "b36b9387-2941-427a-b0c0-8c1bee663f88",
   "metadata": {},
   "outputs": [],
   "source": [
    "# on peut voir chaque matrice séparément grace à l'indexation\n",
    "# les zones claires indiques la présence de la couleur\n",
    "\n",
    "plt.figure(figsize=(15,10))\n",
    "print(c2)\n",
    "plt.subplot(131); plt.imshow(c2[:,:,0], cmap=\"gray\"); plt.title(\"Red\")\n",
    "plt.subplot(132); plt.imshow(c2[:,:,1], cmap=\"gray\"); plt.title(\"Green\")\n",
    "plt.subplot(133); plt.imshow(c2[:,:,2], cmap=\"gray\"); plt.title(\"Blue\")"
   ]
  },
  {
   "cell_type": "code",
   "execution_count": null,
   "id": "e6aa1f6a-9814-441f-af71-f27bfcc6d3be",
   "metadata": {},
   "outputs": [],
   "source": [
    "# Visualiser le canal rouge\n",
    "# Faire une copie de l'image et mettre les deux autres cannaux à 0 (en noir)\n",
    "\n",
    "red = c2.copy()\n",
    "red[:,:,1] = red[:,:,2] = 0\n",
    "plt.imshow(red)\n",
    "plt.show()"
   ]
  },
  {
   "cell_type": "code",
   "execution_count": null,
   "id": "996380f0-7f23-490b-a1c9-3098b56aecac",
   "metadata": {},
   "outputs": [],
   "source": [
    "# Visualiser le canal vert\n",
    "# Faire une copie de l'image et mettre les deux autres cannaux à 0 (en noir)\n",
    "\n",
    "green = c2.copy()\n",
    "green[:,:,0] = green[:,:,2] = 0 \n",
    "plt.imshow(green)\n",
    "plt.show()"
   ]
  },
  {
   "cell_type": "code",
   "execution_count": null,
   "id": "96668aa0-c0e8-4d04-a6f1-35b340de1957",
   "metadata": {},
   "outputs": [],
   "source": [
    "# Visualiser le canal bleu\n",
    "# Faire une copie de l'image et mettre les deux autres cannaux à 0 (en noir)\n",
    "\n",
    "blue = c2.copy()\n",
    "blue[:,:,0] = blue[:,:,1] = 0 \n",
    "plt.imshow(blue)\n",
    "plt.show()"
   ]
  },
  {
   "cell_type": "markdown",
   "id": "844a8552-6147-4194-b56f-c99b0c07333b",
   "metadata": {},
   "source": [
    "**Faisons la même chose avec notre image!**"
   ]
  },
  {
   "cell_type": "code",
   "execution_count": null,
   "id": "39d9055a-4cbc-4512-a889-b38377b9c11c",
   "metadata": {},
   "outputs": [],
   "source": [
    "print(image.shape)\n",
    "\n",
    "plt.imshow(image)\n",
    "plt.show()"
   ]
  },
  {
   "cell_type": "code",
   "execution_count": null,
   "id": "03dc13a2-213a-4322-8ecc-6388513ef3c6",
   "metadata": {},
   "outputs": [],
   "source": [
    "# on peut voir chaque matrice séparément grace à l'indexation\n",
    "\n",
    "plt.figure(figsize=(15,10))\n",
    "print(image)\n",
    "plt.subplot(131); plt.imshow(image[:,:,0], cmap=\"gray\"); plt.title(\"Red\")\n",
    "plt.subplot(132); plt.imshow(image[:,:,1], cmap=\"gray\"); plt.title(\"Green\")\n",
    "plt.subplot(133); plt.imshow(image[:,:,2], cmap=\"gray\"); plt.title(\"Blue\")"
   ]
  },
  {
   "cell_type": "code",
   "execution_count": null,
   "id": "8f95172d-0a07-4ff8-9513-f3ff75da9d83",
   "metadata": {},
   "outputs": [],
   "source": [
    "# Visualiser le canal rouge\n",
    "# Faire une copie de l'image et mettre les deux autres cannaux à 0 (en noir)\n",
    "\n",
    "red = image.copy()\n",
    "red[:,:,1] = red[:,:,2] = 0\n",
    "plt.imshow(red)\n",
    "plt.show()"
   ]
  },
  {
   "cell_type": "code",
   "execution_count": null,
   "id": "9e2332aa-6ef8-4ecf-a6de-a17901fe6605",
   "metadata": {},
   "outputs": [],
   "source": [
    "# Visualiser le canal vert\n",
    "# Faire une copie de l'image et mettre les deux autres cannaux à 0 (en noir)\n",
    "\n",
    "green = image.copy()\n",
    "green[:,:,0] = green[:,:,2] = 0 \n",
    "plt.imshow(green)\n",
    "plt.show()"
   ]
  },
  {
   "cell_type": "code",
   "execution_count": null,
   "id": "d9f150f1-2a54-4739-8926-5f9f5cef1c52",
   "metadata": {},
   "outputs": [],
   "source": [
    "# Visualiser le canal bleu\n",
    "# Faire une copie de l'image et mettre les deux autres cannaux à 0 (en noir)\n",
    "\n",
    "blue = image.copy()\n",
    "blue[:,:,0] = blue[:,:,1] = 0 \n",
    "plt.imshow(blue)\n",
    "plt.show()"
   ]
  },
  {
   "cell_type": "markdown",
   "id": "cc925829-8809-4740-88ad-01efc10e75cc",
   "metadata": {},
   "source": [
    "### Hue Saturation Value : HSV\n",
    "\n",
    "L'espace HSV, en français TSV, comprend Hue (Teinte), Saturation et Valeur. L'intérêt de cet espace de couleur est que la couleur est encodée sur un canal uniquement (Teinte). La saturation correspond à l'intensité de la couleur, plus elle sera faible plus la couleur sera fade. La valeur correspond à la brillance, plus elle sera faible plus la couleur sera sombre.\n",
    "\n",
    "<img src=\"https://external-content.duckduckgo.com/iu/?u=https%3A%2F%2Fres.cloudinary.com%2Fpracticaldev%2Fimage%2Ffetch%2Fs--bY6KnFCr--%2Fc_limit%252Cf_auto%252Cfl_progressive%252Cq_auto%252Cw_880%2Fhttps%3A%2F%2Fthepracticaldev.s3.amazonaws.com%2Fi%2F3tffy0gdkf1471xg6mhi.jpeg&f=1&nofb=1&ipt=49377950004c804b3e40029c9dd8f89711a2b84bd72d38afdf5711be5d62e40b&ipo=images\" title=\"array_hsv\"/>"
   ]
  },
  {
   "cell_type": "code",
   "execution_count": null,
   "id": "0994e2a3-0471-41f8-a137-1e116eedf4c1",
   "metadata": {},
   "outputs": [],
   "source": [
    "# Modifier puis visualiser en HSV\n",
    "\n",
    "hsv = cv2.cvtColor(image, cv2.COLOR_RGB2HSV)\n",
    "plt.imshow(hsv, cmap='hsv')\n",
    "plt.show()"
   ]
  },
  {
   "cell_type": "markdown",
   "id": "77d8bacd-9d07-48b2-89c0-dfbab68f030c",
   "metadata": {},
   "source": [
    "**Ce n'est pas très parlant, non?**"
   ]
  },
  {
   "cell_type": "code",
   "execution_count": null,
   "id": "114ced1c-9091-413d-b997-300e959e4392",
   "metadata": {},
   "outputs": [],
   "source": [
    "# voyons chaque canal\n",
    "\n",
    "plt.figure(figsize=(15,10))\n",
    "plt.subplot(131); plt.imshow(hsv[:,:,0], cmap=\"gray\"); plt.title(\"Hue\");\n",
    "plt.subplot(132); plt.imshow(hsv[:,:,1], cmap=\"gray\"); plt.title(\"Saturation\")\n",
    "plt.subplot(133); plt.imshow(hsv[:,:,2], cmap=\"gray\"); plt.title(\"Value\")"
   ]
  },
  {
   "cell_type": "code",
   "execution_count": null,
   "id": "4afc1e2a-e098-4ecd-b0fd-78fface7c6ce",
   "metadata": {},
   "outputs": [],
   "source": [
    "plt.figure(figsize=(15,10))\n",
    "plt.subplot(131); plt.imshow(hsv[:,:,0], cmap=\"hsv\"); plt.title(\"Hue\");\n",
    "plt.subplot(132); plt.imshow(image); plt.title(\"Image de base\")"
   ]
  },
  {
   "cell_type": "markdown",
   "id": "b7083a61-28e3-4105-98d5-c1c9a19a401e",
   "metadata": {},
   "source": [
    "### Mais encore\n",
    "\n",
    "Il existe différentes manières de décrire et d'encoder les couleurs dans les images.\n",
    "\n",
    "<img src=\"https://upload.wikimedia.org/wikipedia/commons/thumb/1/19/SubtractiveColor.svg/1920px-SubtractiveColor.svg.png\" title=\"cmy\"/>\n",
    "<img src=\"https://external-content.duckduckgo.com/iu/?u=http%3A%2F%2F4.bp.blogspot.com%2F_lNzlqVMcIj8%2FS883k71zk3I%2FAAAAAAAABvw%2F2sDaMacB4E8%2Fs1600%2FBasic%2BGamut%2Bgraphic%2BLab.jpg&f=1&nofb=1&ipt=05d18ee527a7b2c647f0a549f02f28e26a221b3990f7b6c646b3e6094f8ca0e7&ipo=images\" title=\"clab\"/>\n",
    "\n",
    "Pour aller plus loin: https://en.wikipedia.org/wiki/List_of_color_spaces_and_their_uses"
   ]
  },
  {
   "cell_type": "markdown",
   "id": "0d37428c-d345-433a-af2a-25b469d3bb79",
   "metadata": {},
   "source": [
    "<div class=\"alert alert-block alert-warning\">\n",
    "<b>Exercice</b>: le but est de mettre au point une châine de traitement afin de télécharger une image et avoir ses informations. Vous pouvez tout écrire dans une cellule ou définir plusieurs fonctions. Il faut respecter les points suivant:\n",
    "<ul>\n",
    "  <li>La chaîne de traitement prend en entrée le lien (URL) de l'image et le chemin (avec nom du fichier) pour enregistrer l'image</li>\n",
    "  <li>Il faut mettre des messages (en utilisant la fonction print) entre les étapes importantes</li>\n",
    "  <li>A la fin, il faut donner les informations sur les dimensions de l'image</li>\n",
    "</ul></div>"
   ]
  },
  {
   "cell_type": "code",
   "execution_count": null,
   "id": "69bc30d3-477c-4a69-8b5c-5e51cfbeecc5",
   "metadata": {},
   "outputs": [],
   "source": []
  }
 ],
 "metadata": {
  "kernelspec": {
   "display_name": "image",
   "language": "python",
   "name": "image"
  },
  "language_info": {
   "codemirror_mode": {
    "name": "ipython",
    "version": 3
   },
   "file_extension": ".py",
   "mimetype": "text/x-python",
   "name": "python",
   "nbconvert_exporter": "python",
   "pygments_lexer": "ipython3",
   "version": "3.8.13"
  }
 },
 "nbformat": 4,
 "nbformat_minor": 5
}
